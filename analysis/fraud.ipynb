{
 "cells": [
  {
   "cell_type": "code",
   "execution_count": 1,
   "id": "8b39da5b",
   "metadata": {},
   "outputs": [],
   "source": [
    "import pandas as pd\n",
    "import matplotlib.pyplot as plt \n",
    "import numpy as np\n",
    "import seaborn as sns\n",
    "import plotly.express as px\n",
    "import plotly.graph_objects as go\n",
    "import plotly.figure_factory as ff"
   ]
  },
  {
   "cell_type": "code",
   "execution_count": 2,
   "id": "255ec029",
   "metadata": {},
   "outputs": [
    {
     "data": {
      "text/html": [
       "<div>\n",
       "<style scoped>\n",
       "    .dataframe tbody tr th:only-of-type {\n",
       "        vertical-align: middle;\n",
       "    }\n",
       "\n",
       "    .dataframe tbody tr th {\n",
       "        vertical-align: top;\n",
       "    }\n",
       "\n",
       "    .dataframe thead th {\n",
       "        text-align: right;\n",
       "    }\n",
       "</style>\n",
       "<table border=\"1\" class=\"dataframe\">\n",
       "  <thead>\n",
       "    <tr style=\"text-align: right;\">\n",
       "      <th></th>\n",
       "      <th>Numro d'identification / Number ID</th>\n",
       "      <th>Date Received / Date reue</th>\n",
       "      <th>Complaint Received Type</th>\n",
       "      <th>Type de plainte reue</th>\n",
       "      <th>Country</th>\n",
       "      <th>Pays</th>\n",
       "      <th>Province/State</th>\n",
       "      <th>Province/tat</th>\n",
       "      <th>Fraud and Cybercrime Thematic Categories</th>\n",
       "      <th>Catgories thmatiques sur la fraude et la cybercriminalit</th>\n",
       "      <th>...</th>\n",
       "      <th>Mthode de sollicitation</th>\n",
       "      <th>Gender</th>\n",
       "      <th>Genre</th>\n",
       "      <th>Language of Correspondence</th>\n",
       "      <th>Langue de correspondance</th>\n",
       "      <th>Victim Age Range / Tranche d'ge des victimes</th>\n",
       "      <th>Complaint Type</th>\n",
       "      <th>Type de plainte</th>\n",
       "      <th>Number of Victims / Nombre de victimes</th>\n",
       "      <th>Dollar Loss /pertes financires</th>\n",
       "    </tr>\n",
       "  </thead>\n",
       "  <tbody>\n",
       "    <tr>\n",
       "      <th>0</th>\n",
       "      <td>1</td>\n",
       "      <td>2021-01-02</td>\n",
       "      <td>CAFC Website</td>\n",
       "      <td>CAFC site web</td>\n",
       "      <td>Canada</td>\n",
       "      <td>Canada</td>\n",
       "      <td>Nova Scotia</td>\n",
       "      <td>Nouvelle-cosse</td>\n",
       "      <td>Phishing</td>\n",
       "      <td>Hameonnage</td>\n",
       "      <td>...</td>\n",
       "      <td>Messages texte</td>\n",
       "      <td>Female</td>\n",
       "      <td>Femme</td>\n",
       "      <td>English</td>\n",
       "      <td>Anglais</td>\n",
       "      <td>'30 - 39</td>\n",
       "      <td>Attempt</td>\n",
       "      <td>Tentative</td>\n",
       "      <td>0</td>\n",
       "      <td>$0.00</td>\n",
       "    </tr>\n",
       "    <tr>\n",
       "      <th>1</th>\n",
       "      <td>2</td>\n",
       "      <td>2021-01-02</td>\n",
       "      <td>CAFC Website</td>\n",
       "      <td>CAFC site web</td>\n",
       "      <td>Canada</td>\n",
       "      <td>Canada</td>\n",
       "      <td>British Columbia</td>\n",
       "      <td>Colombie-Britanique</td>\n",
       "      <td>Identity Fraud</td>\n",
       "      <td>Fraude  l'identit</td>\n",
       "      <td>...</td>\n",
       "      <td>Autre/inconnu</td>\n",
       "      <td>Female</td>\n",
       "      <td>Femme</td>\n",
       "      <td>English</td>\n",
       "      <td>Anglais</td>\n",
       "      <td>'70 - 79</td>\n",
       "      <td>Victim</td>\n",
       "      <td>Victime</td>\n",
       "      <td>1</td>\n",
       "      <td>$0.00</td>\n",
       "    </tr>\n",
       "    <tr>\n",
       "      <th>2</th>\n",
       "      <td>3</td>\n",
       "      <td>2021-01-02</td>\n",
       "      <td>CAFC Website</td>\n",
       "      <td>CAFC site web</td>\n",
       "      <td>Not Specified</td>\n",
       "      <td>Non spcifi</td>\n",
       "      <td>Not Specified</td>\n",
       "      <td>Non spcifi</td>\n",
       "      <td>Romance</td>\n",
       "      <td>Romance</td>\n",
       "      <td>...</td>\n",
       "      <td>Autre/inconnu</td>\n",
       "      <td>Not Available</td>\n",
       "      <td>non disponible</td>\n",
       "      <td>Not Available</td>\n",
       "      <td>non disponible</td>\n",
       "      <td>'Not Available / non disponible</td>\n",
       "      <td>Victim</td>\n",
       "      <td>Victime</td>\n",
       "      <td>1</td>\n",
       "      <td>$298.00</td>\n",
       "    </tr>\n",
       "    <tr>\n",
       "      <th>3</th>\n",
       "      <td>4</td>\n",
       "      <td>2021-01-02</td>\n",
       "      <td>CAFC Website</td>\n",
       "      <td>CAFC site web</td>\n",
       "      <td>United States</td>\n",
       "      <td>tats-Unis</td>\n",
       "      <td>California</td>\n",
       "      <td>Californie</td>\n",
       "      <td>Foreign Money Offer</td>\n",
       "      <td>Offre dargent de ltranger</td>\n",
       "      <td>...</td>\n",
       "      <td>Courrier</td>\n",
       "      <td>Male</td>\n",
       "      <td>Homme</td>\n",
       "      <td>English</td>\n",
       "      <td>Anglais</td>\n",
       "      <td>'60 - 69</td>\n",
       "      <td>Attempt</td>\n",
       "      <td>Tentative</td>\n",
       "      <td>0</td>\n",
       "      <td>$0.00</td>\n",
       "    </tr>\n",
       "    <tr>\n",
       "      <th>4</th>\n",
       "      <td>5</td>\n",
       "      <td>2021-01-02</td>\n",
       "      <td>CAFC Website</td>\n",
       "      <td>CAFC site web</td>\n",
       "      <td>Canada</td>\n",
       "      <td>Canada</td>\n",
       "      <td>Ontario</td>\n",
       "      <td>Ontario</td>\n",
       "      <td>Merchandise</td>\n",
       "      <td>Marchandise</td>\n",
       "      <td>...</td>\n",
       "      <td>Internet</td>\n",
       "      <td>Female</td>\n",
       "      <td>Femme</td>\n",
       "      <td>English</td>\n",
       "      <td>Anglais</td>\n",
       "      <td>'20 - 29</td>\n",
       "      <td>Victim</td>\n",
       "      <td>Victime</td>\n",
       "      <td>1</td>\n",
       "      <td>$50.00</td>\n",
       "    </tr>\n",
       "    <tr>\n",
       "      <th>...</th>\n",
       "      <td>...</td>\n",
       "      <td>...</td>\n",
       "      <td>...</td>\n",
       "      <td>...</td>\n",
       "      <td>...</td>\n",
       "      <td>...</td>\n",
       "      <td>...</td>\n",
       "      <td>...</td>\n",
       "      <td>...</td>\n",
       "      <td>...</td>\n",
       "      <td>...</td>\n",
       "      <td>...</td>\n",
       "      <td>...</td>\n",
       "      <td>...</td>\n",
       "      <td>...</td>\n",
       "      <td>...</td>\n",
       "      <td>...</td>\n",
       "      <td>...</td>\n",
       "      <td>...</td>\n",
       "      <td>...</td>\n",
       "      <td>...</td>\n",
       "    </tr>\n",
       "    <tr>\n",
       "      <th>313971</th>\n",
       "      <td>313972</td>\n",
       "      <td>2024-12-31</td>\n",
       "      <td>Phone</td>\n",
       "      <td>Tlphone</td>\n",
       "      <td>Canada</td>\n",
       "      <td>Canada</td>\n",
       "      <td>Alberta</td>\n",
       "      <td>Alberta</td>\n",
       "      <td>Service</td>\n",
       "      <td>Service</td>\n",
       "      <td>...</td>\n",
       "      <td>Appel direct</td>\n",
       "      <td>Not Available</td>\n",
       "      <td>non disponible</td>\n",
       "      <td>English</td>\n",
       "      <td>Anglais</td>\n",
       "      <td>'70 - 79</td>\n",
       "      <td>Victim</td>\n",
       "      <td>Victime</td>\n",
       "      <td>1</td>\n",
       "      <td>$0.00</td>\n",
       "    </tr>\n",
       "    <tr>\n",
       "      <th>313972</th>\n",
       "      <td>313973</td>\n",
       "      <td>2024-12-31</td>\n",
       "      <td>Phone</td>\n",
       "      <td>Tlphone</td>\n",
       "      <td>Canada</td>\n",
       "      <td>Canada</td>\n",
       "      <td>Ontario</td>\n",
       "      <td>Ontario</td>\n",
       "      <td>Identity Fraud</td>\n",
       "      <td>Fraude  l'identit</td>\n",
       "      <td>...</td>\n",
       "      <td>Autre/inconnu</td>\n",
       "      <td>Not Available</td>\n",
       "      <td>non disponible</td>\n",
       "      <td>English</td>\n",
       "      <td>Anglais</td>\n",
       "      <td>'30 - 39</td>\n",
       "      <td>Victim</td>\n",
       "      <td>Victime</td>\n",
       "      <td>1</td>\n",
       "      <td>$0.00</td>\n",
       "    </tr>\n",
       "    <tr>\n",
       "      <th>313973</th>\n",
       "      <td>313974</td>\n",
       "      <td>2024-12-31</td>\n",
       "      <td>Phone</td>\n",
       "      <td>Tlphone</td>\n",
       "      <td>Canada</td>\n",
       "      <td>Canada</td>\n",
       "      <td>Quebec</td>\n",
       "      <td>Qubec</td>\n",
       "      <td>Service</td>\n",
       "      <td>Service</td>\n",
       "      <td>...</td>\n",
       "      <td>Appel direct</td>\n",
       "      <td>Male</td>\n",
       "      <td>Homme</td>\n",
       "      <td>French</td>\n",
       "      <td>Franais</td>\n",
       "      <td>'60 - 69</td>\n",
       "      <td>Victim</td>\n",
       "      <td>Victime</td>\n",
       "      <td>1</td>\n",
       "      <td>$0.00</td>\n",
       "    </tr>\n",
       "    <tr>\n",
       "      <th>313974</th>\n",
       "      <td>313975</td>\n",
       "      <td>2024-12-31</td>\n",
       "      <td>Phone</td>\n",
       "      <td>Tlphone</td>\n",
       "      <td>Canada</td>\n",
       "      <td>Canada</td>\n",
       "      <td>Quebec</td>\n",
       "      <td>Qubec</td>\n",
       "      <td>Extortion</td>\n",
       "      <td>Extorsion</td>\n",
       "      <td>...</td>\n",
       "      <td>Courriel</td>\n",
       "      <td>Female</td>\n",
       "      <td>Femme</td>\n",
       "      <td>French</td>\n",
       "      <td>Franais</td>\n",
       "      <td>'70 - 79</td>\n",
       "      <td>Victim</td>\n",
       "      <td>Victime</td>\n",
       "      <td>1</td>\n",
       "      <td>$0.00</td>\n",
       "    </tr>\n",
       "    <tr>\n",
       "      <th>313975</th>\n",
       "      <td>313976</td>\n",
       "      <td>2024-12-31</td>\n",
       "      <td>Phone</td>\n",
       "      <td>Tlphone</td>\n",
       "      <td>Canada</td>\n",
       "      <td>Canada</td>\n",
       "      <td>Quebec</td>\n",
       "      <td>Qubec</td>\n",
       "      <td>Unknown</td>\n",
       "      <td>Inconnu</td>\n",
       "      <td>...</td>\n",
       "      <td>Appel direct</td>\n",
       "      <td>Male</td>\n",
       "      <td>Homme</td>\n",
       "      <td>French</td>\n",
       "      <td>Franais</td>\n",
       "      <td>'60 - 69</td>\n",
       "      <td>Attempt</td>\n",
       "      <td>Tentative</td>\n",
       "      <td>0</td>\n",
       "      <td>$0.00</td>\n",
       "    </tr>\n",
       "  </tbody>\n",
       "</table>\n",
       "<p>313976 rows × 21 columns</p>\n",
       "</div>"
      ],
      "text/plain": [
       "        Numro d'identification / Number ID Date Received / Date reue  \\\n",
       "0                                        1                2021-01-02   \n",
       "1                                        2                2021-01-02   \n",
       "2                                        3                2021-01-02   \n",
       "3                                        4                2021-01-02   \n",
       "4                                        5                2021-01-02   \n",
       "...                                    ...                       ...   \n",
       "313971                              313972                2024-12-31   \n",
       "313972                              313973                2024-12-31   \n",
       "313973                              313974                2024-12-31   \n",
       "313974                              313975                2024-12-31   \n",
       "313975                              313976                2024-12-31   \n",
       "\n",
       "       Complaint Received Type Type de plainte reue        Country  \\\n",
       "0                 CAFC Website        CAFC site web         Canada   \n",
       "1                 CAFC Website        CAFC site web         Canada   \n",
       "2                 CAFC Website        CAFC site web  Not Specified   \n",
       "3                 CAFC Website        CAFC site web  United States   \n",
       "4                 CAFC Website        CAFC site web         Canada   \n",
       "...                        ...                  ...            ...   \n",
       "313971                   Phone              Tlphone         Canada   \n",
       "313972                   Phone              Tlphone         Canada   \n",
       "313973                   Phone              Tlphone         Canada   \n",
       "313974                   Phone              Tlphone         Canada   \n",
       "313975                   Phone              Tlphone         Canada   \n",
       "\n",
       "              Pays    Province/State         Province/tat  \\\n",
       "0           Canada       Nova Scotia       Nouvelle-cosse   \n",
       "1           Canada  British Columbia  Colombie-Britanique   \n",
       "2       Non spcifi     Not Specified           Non spcifi   \n",
       "3        tats-Unis        California           Californie   \n",
       "4           Canada           Ontario              Ontario   \n",
       "...            ...               ...                  ...   \n",
       "313971      Canada           Alberta              Alberta   \n",
       "313972      Canada           Ontario              Ontario   \n",
       "313973      Canada            Quebec                Qubec   \n",
       "313974      Canada            Quebec                Qubec   \n",
       "313975      Canada            Quebec                Qubec   \n",
       "\n",
       "       Fraud and Cybercrime Thematic Categories  \\\n",
       "0                                      Phishing   \n",
       "1                                Identity Fraud   \n",
       "2                                       Romance   \n",
       "3                           Foreign Money Offer   \n",
       "4                                   Merchandise   \n",
       "...                                         ...   \n",
       "313971                                  Service   \n",
       "313972                           Identity Fraud   \n",
       "313973                                  Service   \n",
       "313974                                Extortion   \n",
       "313975                                  Unknown   \n",
       "\n",
       "       Catgories thmatiques sur la fraude et la cybercriminalit  ...  \\\n",
       "0                                              Hameonnage        ...   \n",
       "1                                       Fraude  l'identit        ...   \n",
       "2                                                 Romance        ...   \n",
       "3                               Offre dargent de ltranger        ...   \n",
       "4                                             Marchandise        ...   \n",
       "...                                                   ...        ...   \n",
       "313971                                            Service        ...   \n",
       "313972                                  Fraude  l'identit        ...   \n",
       "313973                                            Service        ...   \n",
       "313974                                          Extorsion        ...   \n",
       "313975                                            Inconnu        ...   \n",
       "\n",
       "       Mthode de sollicitation         Gender           Genre  \\\n",
       "0               Messages texte         Female           Femme   \n",
       "1                Autre/inconnu         Female           Femme   \n",
       "2                Autre/inconnu  Not Available  non disponible   \n",
       "3                     Courrier           Male           Homme   \n",
       "4                     Internet         Female           Femme   \n",
       "...                        ...            ...             ...   \n",
       "313971            Appel direct  Not Available  non disponible   \n",
       "313972           Autre/inconnu  Not Available  non disponible   \n",
       "313973            Appel direct           Male           Homme   \n",
       "313974                Courriel         Female           Femme   \n",
       "313975            Appel direct           Male           Homme   \n",
       "\n",
       "       Language of Correspondence Langue de correspondance  \\\n",
       "0                         English                  Anglais   \n",
       "1                         English                  Anglais   \n",
       "2                   Not Available           non disponible   \n",
       "3                         English                  Anglais   \n",
       "4                         English                  Anglais   \n",
       "...                           ...                      ...   \n",
       "313971                    English                  Anglais   \n",
       "313972                    English                  Anglais   \n",
       "313973                     French                  Franais   \n",
       "313974                     French                  Franais   \n",
       "313975                     French                  Franais   \n",
       "\n",
       "       Victim Age Range / Tranche d'ge des victimes Complaint Type  \\\n",
       "0                                          '30 - 39        Attempt   \n",
       "1                                          '70 - 79         Victim   \n",
       "2                   'Not Available / non disponible         Victim   \n",
       "3                                          '60 - 69        Attempt   \n",
       "4                                          '20 - 29         Victim   \n",
       "...                                             ...            ...   \n",
       "313971                                     '70 - 79         Victim   \n",
       "313972                                     '30 - 39         Victim   \n",
       "313973                                     '60 - 69         Victim   \n",
       "313974                                     '70 - 79         Victim   \n",
       "313975                                     '60 - 69        Attempt   \n",
       "\n",
       "       Type de plainte Number of Victims / Nombre de victimes  \\\n",
       "0            Tentative                                      0   \n",
       "1              Victime                                      1   \n",
       "2              Victime                                      1   \n",
       "3            Tentative                                      0   \n",
       "4              Victime                                      1   \n",
       "...                ...                                    ...   \n",
       "313971         Victime                                      1   \n",
       "313972         Victime                                      1   \n",
       "313973         Victime                                      1   \n",
       "313974         Victime                                      1   \n",
       "313975       Tentative                                      0   \n",
       "\n",
       "        Dollar Loss /pertes financires  \n",
       "0                                $0.00  \n",
       "1                                $0.00  \n",
       "2                              $298.00  \n",
       "3                                $0.00  \n",
       "4                               $50.00  \n",
       "...                                ...  \n",
       "313971                           $0.00  \n",
       "313972                           $0.00  \n",
       "313973                           $0.00  \n",
       "313974                           $0.00  \n",
       "313975                           $0.00  \n",
       "\n",
       "[313976 rows x 21 columns]"
      ]
     },
     "execution_count": 2,
     "metadata": {},
     "output_type": "execute_result"
    }
   ],
   "source": [
    "df = pd.read_csv(\"Anti_Fraud_Centre_Data.csv\")\n",
    "df"
   ]
  },
  {
   "cell_type": "code",
   "execution_count": 3,
   "id": "cb2dbcd7",
   "metadata": {},
   "outputs": [
    {
     "data": {
      "application/vnd.plotly.v1+json": {
       "config": {
        "plotlyServerURL": "https://plot.ly"
       },
       "data": [
        {
         "hovertemplate": "Count=%{marker.color}<br>Category=%{y}<extra></extra>",
         "legendgroup": "",
         "marker": {
          "color": {
           "bdata": "4RoBABR2AABCawAAWGUAAFldAABFQQAAYT8AAJ4zAABIMwAAXy8AAIglAABGJAAAFCIAAP4cAACyFgAADRYAABIRAABwBwAAsQYAAKoGAABIBQAAJAUAAPwEAAB9AgAApAEAACEBAADOAAAAsQAAAIgAAACDAAAAcAAAAGMAAABWAAAATgAAADwAAAAyAAAACgAAAAQAAAACAAAA",
           "dtype": "i4"
          },
          "coloraxis": "coloraxis",
          "pattern": {
           "shape": ""
          }
         },
         "name": "",
         "orientation": "h",
         "showlegend": false,
         "textposition": "outside",
         "texttemplate": "%{x:,.0f}",
         "type": "bar",
         "x": {
          "bdata": "4RoBABR2AABCawAAWGUAAFldAABFQQAAYT8AAJ4zAABIMwAAXy8AAIglAABGJAAAFCIAAP4cAACyFgAADRYAABIRAABwBwAAsQYAAKoGAABIBQAAJAUAAPwEAAB9AgAApAEAACEBAADOAAAAsQAAAIgAAACDAAAAcAAAAGMAAABWAAAATgAAADwAAAAyAAAACgAAAAQAAAACAAAA",
          "dtype": "i4"
         },
         "xaxis": "x",
         "y": [
          "Identity Fraud",
          "Extortion",
          "Phishing",
          "Personal Info",
          "Service",
          "Investments",
          "Merchandise",
          "Bank Investigator",
          "Counterfeit Merchandise",
          "Job",
          "Vendor Fraud",
          "Other",
          "Unknown",
          "Emergency (Jail, Accident, Hospital, Help)",
          "Romance",
          "Spear Phishing",
          "Prize",
          "False Billing",
          "GRANT",
          "Loan",
          "Collection Agency",
          "Recovery Pitch",
          "Foreign Money Offer",
          "Incomplete",
          "Charity / Donation",
          "Pyramid",
          "Spoofing",
          "Timeshare",
          "Psychics",
          "Vacation",
          "Survey",
          "Unauthorized Charge",
          "Telecom Fraud",
          "Health",
          "Credit Card",
          "Directory",
          "Office Supplies",
          "Fraudulent Cheque",
          "Modem-Hijacking"
         ],
         "yaxis": "y"
        }
       ],
       "layout": {
        "barmode": "relative",
        "coloraxis": {
         "colorbar": {
          "title": {
           "text": "Count"
          }
         },
         "colorscale": [
          [
           0,
           "#440154"
          ],
          [
           0.1111111111111111,
           "#482878"
          ],
          [
           0.2222222222222222,
           "#3e4989"
          ],
          [
           0.3333333333333333,
           "#31688e"
          ],
          [
           0.4444444444444444,
           "#26828e"
          ],
          [
           0.5555555555555556,
           "#1f9e89"
          ],
          [
           0.6666666666666666,
           "#35b779"
          ],
          [
           0.7777777777777778,
           "#6ece58"
          ],
          [
           0.8888888888888888,
           "#b5de2b"
          ],
          [
           1,
           "#fde725"
          ]
         ]
        },
        "height": 600,
        "legend": {
         "tracegroupgap": 0
        },
        "plot_bgcolor": "white",
        "showlegend": false,
        "template": {
         "data": {
          "bar": [
           {
            "error_x": {
             "color": "#2a3f5f"
            },
            "error_y": {
             "color": "#2a3f5f"
            },
            "marker": {
             "line": {
              "color": "white",
              "width": 0.5
             },
             "pattern": {
              "fillmode": "overlay",
              "size": 10,
              "solidity": 0.2
             }
            },
            "type": "bar"
           }
          ],
          "barpolar": [
           {
            "marker": {
             "line": {
              "color": "white",
              "width": 0.5
             },
             "pattern": {
              "fillmode": "overlay",
              "size": 10,
              "solidity": 0.2
             }
            },
            "type": "barpolar"
           }
          ],
          "carpet": [
           {
            "aaxis": {
             "endlinecolor": "#2a3f5f",
             "gridcolor": "#C8D4E3",
             "linecolor": "#C8D4E3",
             "minorgridcolor": "#C8D4E3",
             "startlinecolor": "#2a3f5f"
            },
            "baxis": {
             "endlinecolor": "#2a3f5f",
             "gridcolor": "#C8D4E3",
             "linecolor": "#C8D4E3",
             "minorgridcolor": "#C8D4E3",
             "startlinecolor": "#2a3f5f"
            },
            "type": "carpet"
           }
          ],
          "choropleth": [
           {
            "colorbar": {
             "outlinewidth": 0,
             "ticks": ""
            },
            "type": "choropleth"
           }
          ],
          "contour": [
           {
            "colorbar": {
             "outlinewidth": 0,
             "ticks": ""
            },
            "colorscale": [
             [
              0,
              "#0d0887"
             ],
             [
              0.1111111111111111,
              "#46039f"
             ],
             [
              0.2222222222222222,
              "#7201a8"
             ],
             [
              0.3333333333333333,
              "#9c179e"
             ],
             [
              0.4444444444444444,
              "#bd3786"
             ],
             [
              0.5555555555555556,
              "#d8576b"
             ],
             [
              0.6666666666666666,
              "#ed7953"
             ],
             [
              0.7777777777777778,
              "#fb9f3a"
             ],
             [
              0.8888888888888888,
              "#fdca26"
             ],
             [
              1,
              "#f0f921"
             ]
            ],
            "type": "contour"
           }
          ],
          "contourcarpet": [
           {
            "colorbar": {
             "outlinewidth": 0,
             "ticks": ""
            },
            "type": "contourcarpet"
           }
          ],
          "heatmap": [
           {
            "colorbar": {
             "outlinewidth": 0,
             "ticks": ""
            },
            "colorscale": [
             [
              0,
              "#0d0887"
             ],
             [
              0.1111111111111111,
              "#46039f"
             ],
             [
              0.2222222222222222,
              "#7201a8"
             ],
             [
              0.3333333333333333,
              "#9c179e"
             ],
             [
              0.4444444444444444,
              "#bd3786"
             ],
             [
              0.5555555555555556,
              "#d8576b"
             ],
             [
              0.6666666666666666,
              "#ed7953"
             ],
             [
              0.7777777777777778,
              "#fb9f3a"
             ],
             [
              0.8888888888888888,
              "#fdca26"
             ],
             [
              1,
              "#f0f921"
             ]
            ],
            "type": "heatmap"
           }
          ],
          "histogram": [
           {
            "marker": {
             "pattern": {
              "fillmode": "overlay",
              "size": 10,
              "solidity": 0.2
             }
            },
            "type": "histogram"
           }
          ],
          "histogram2d": [
           {
            "colorbar": {
             "outlinewidth": 0,
             "ticks": ""
            },
            "colorscale": [
             [
              0,
              "#0d0887"
             ],
             [
              0.1111111111111111,
              "#46039f"
             ],
             [
              0.2222222222222222,
              "#7201a8"
             ],
             [
              0.3333333333333333,
              "#9c179e"
             ],
             [
              0.4444444444444444,
              "#bd3786"
             ],
             [
              0.5555555555555556,
              "#d8576b"
             ],
             [
              0.6666666666666666,
              "#ed7953"
             ],
             [
              0.7777777777777778,
              "#fb9f3a"
             ],
             [
              0.8888888888888888,
              "#fdca26"
             ],
             [
              1,
              "#f0f921"
             ]
            ],
            "type": "histogram2d"
           }
          ],
          "histogram2dcontour": [
           {
            "colorbar": {
             "outlinewidth": 0,
             "ticks": ""
            },
            "colorscale": [
             [
              0,
              "#0d0887"
             ],
             [
              0.1111111111111111,
              "#46039f"
             ],
             [
              0.2222222222222222,
              "#7201a8"
             ],
             [
              0.3333333333333333,
              "#9c179e"
             ],
             [
              0.4444444444444444,
              "#bd3786"
             ],
             [
              0.5555555555555556,
              "#d8576b"
             ],
             [
              0.6666666666666666,
              "#ed7953"
             ],
             [
              0.7777777777777778,
              "#fb9f3a"
             ],
             [
              0.8888888888888888,
              "#fdca26"
             ],
             [
              1,
              "#f0f921"
             ]
            ],
            "type": "histogram2dcontour"
           }
          ],
          "mesh3d": [
           {
            "colorbar": {
             "outlinewidth": 0,
             "ticks": ""
            },
            "type": "mesh3d"
           }
          ],
          "parcoords": [
           {
            "line": {
             "colorbar": {
              "outlinewidth": 0,
              "ticks": ""
             }
            },
            "type": "parcoords"
           }
          ],
          "pie": [
           {
            "automargin": true,
            "type": "pie"
           }
          ],
          "scatter": [
           {
            "fillpattern": {
             "fillmode": "overlay",
             "size": 10,
             "solidity": 0.2
            },
            "type": "scatter"
           }
          ],
          "scatter3d": [
           {
            "line": {
             "colorbar": {
              "outlinewidth": 0,
              "ticks": ""
             }
            },
            "marker": {
             "colorbar": {
              "outlinewidth": 0,
              "ticks": ""
             }
            },
            "type": "scatter3d"
           }
          ],
          "scattercarpet": [
           {
            "marker": {
             "colorbar": {
              "outlinewidth": 0,
              "ticks": ""
             }
            },
            "type": "scattercarpet"
           }
          ],
          "scattergeo": [
           {
            "marker": {
             "colorbar": {
              "outlinewidth": 0,
              "ticks": ""
             }
            },
            "type": "scattergeo"
           }
          ],
          "scattergl": [
           {
            "marker": {
             "colorbar": {
              "outlinewidth": 0,
              "ticks": ""
             }
            },
            "type": "scattergl"
           }
          ],
          "scattermap": [
           {
            "marker": {
             "colorbar": {
              "outlinewidth": 0,
              "ticks": ""
             }
            },
            "type": "scattermap"
           }
          ],
          "scattermapbox": [
           {
            "marker": {
             "colorbar": {
              "outlinewidth": 0,
              "ticks": ""
             }
            },
            "type": "scattermapbox"
           }
          ],
          "scatterpolar": [
           {
            "marker": {
             "colorbar": {
              "outlinewidth": 0,
              "ticks": ""
             }
            },
            "type": "scatterpolar"
           }
          ],
          "scatterpolargl": [
           {
            "marker": {
             "colorbar": {
              "outlinewidth": 0,
              "ticks": ""
             }
            },
            "type": "scatterpolargl"
           }
          ],
          "scatterternary": [
           {
            "marker": {
             "colorbar": {
              "outlinewidth": 0,
              "ticks": ""
             }
            },
            "type": "scatterternary"
           }
          ],
          "surface": [
           {
            "colorbar": {
             "outlinewidth": 0,
             "ticks": ""
            },
            "colorscale": [
             [
              0,
              "#0d0887"
             ],
             [
              0.1111111111111111,
              "#46039f"
             ],
             [
              0.2222222222222222,
              "#7201a8"
             ],
             [
              0.3333333333333333,
              "#9c179e"
             ],
             [
              0.4444444444444444,
              "#bd3786"
             ],
             [
              0.5555555555555556,
              "#d8576b"
             ],
             [
              0.6666666666666666,
              "#ed7953"
             ],
             [
              0.7777777777777778,
              "#fb9f3a"
             ],
             [
              0.8888888888888888,
              "#fdca26"
             ],
             [
              1,
              "#f0f921"
             ]
            ],
            "type": "surface"
           }
          ],
          "table": [
           {
            "cells": {
             "fill": {
              "color": "#EBF0F8"
             },
             "line": {
              "color": "white"
             }
            },
            "header": {
             "fill": {
              "color": "#C8D4E3"
             },
             "line": {
              "color": "white"
             }
            },
            "type": "table"
           }
          ]
         },
         "layout": {
          "annotationdefaults": {
           "arrowcolor": "#2a3f5f",
           "arrowhead": 0,
           "arrowwidth": 1
          },
          "autotypenumbers": "strict",
          "coloraxis": {
           "colorbar": {
            "outlinewidth": 0,
            "ticks": ""
           }
          },
          "colorscale": {
           "diverging": [
            [
             0,
             "#8e0152"
            ],
            [
             0.1,
             "#c51b7d"
            ],
            [
             0.2,
             "#de77ae"
            ],
            [
             0.3,
             "#f1b6da"
            ],
            [
             0.4,
             "#fde0ef"
            ],
            [
             0.5,
             "#f7f7f7"
            ],
            [
             0.6,
             "#e6f5d0"
            ],
            [
             0.7,
             "#b8e186"
            ],
            [
             0.8,
             "#7fbc41"
            ],
            [
             0.9,
             "#4d9221"
            ],
            [
             1,
             "#276419"
            ]
           ],
           "sequential": [
            [
             0,
             "#0d0887"
            ],
            [
             0.1111111111111111,
             "#46039f"
            ],
            [
             0.2222222222222222,
             "#7201a8"
            ],
            [
             0.3333333333333333,
             "#9c179e"
            ],
            [
             0.4444444444444444,
             "#bd3786"
            ],
            [
             0.5555555555555556,
             "#d8576b"
            ],
            [
             0.6666666666666666,
             "#ed7953"
            ],
            [
             0.7777777777777778,
             "#fb9f3a"
            ],
            [
             0.8888888888888888,
             "#fdca26"
            ],
            [
             1,
             "#f0f921"
            ]
           ],
           "sequentialminus": [
            [
             0,
             "#0d0887"
            ],
            [
             0.1111111111111111,
             "#46039f"
            ],
            [
             0.2222222222222222,
             "#7201a8"
            ],
            [
             0.3333333333333333,
             "#9c179e"
            ],
            [
             0.4444444444444444,
             "#bd3786"
            ],
            [
             0.5555555555555556,
             "#d8576b"
            ],
            [
             0.6666666666666666,
             "#ed7953"
            ],
            [
             0.7777777777777778,
             "#fb9f3a"
            ],
            [
             0.8888888888888888,
             "#fdca26"
            ],
            [
             1,
             "#f0f921"
            ]
           ]
          },
          "colorway": [
           "#636efa",
           "#EF553B",
           "#00cc96",
           "#ab63fa",
           "#FFA15A",
           "#19d3f3",
           "#FF6692",
           "#B6E880",
           "#FF97FF",
           "#FECB52"
          ],
          "font": {
           "color": "#2a3f5f"
          },
          "geo": {
           "bgcolor": "white",
           "lakecolor": "white",
           "landcolor": "white",
           "showlakes": true,
           "showland": true,
           "subunitcolor": "#C8D4E3"
          },
          "hoverlabel": {
           "align": "left"
          },
          "hovermode": "closest",
          "mapbox": {
           "style": "light"
          },
          "paper_bgcolor": "white",
          "plot_bgcolor": "white",
          "polar": {
           "angularaxis": {
            "gridcolor": "#EBF0F8",
            "linecolor": "#EBF0F8",
            "ticks": ""
           },
           "bgcolor": "white",
           "radialaxis": {
            "gridcolor": "#EBF0F8",
            "linecolor": "#EBF0F8",
            "ticks": ""
           }
          },
          "scene": {
           "xaxis": {
            "backgroundcolor": "white",
            "gridcolor": "#DFE8F3",
            "gridwidth": 2,
            "linecolor": "#EBF0F8",
            "showbackground": true,
            "ticks": "",
            "zerolinecolor": "#EBF0F8"
           },
           "yaxis": {
            "backgroundcolor": "white",
            "gridcolor": "#DFE8F3",
            "gridwidth": 2,
            "linecolor": "#EBF0F8",
            "showbackground": true,
            "ticks": "",
            "zerolinecolor": "#EBF0F8"
           },
           "zaxis": {
            "backgroundcolor": "white",
            "gridcolor": "#DFE8F3",
            "gridwidth": 2,
            "linecolor": "#EBF0F8",
            "showbackground": true,
            "ticks": "",
            "zerolinecolor": "#EBF0F8"
           }
          },
          "shapedefaults": {
           "line": {
            "color": "#2a3f5f"
           }
          },
          "ternary": {
           "aaxis": {
            "gridcolor": "#DFE8F3",
            "linecolor": "#A2B1C6",
            "ticks": ""
           },
           "baxis": {
            "gridcolor": "#DFE8F3",
            "linecolor": "#A2B1C6",
            "ticks": ""
           },
           "bgcolor": "white",
           "caxis": {
            "gridcolor": "#DFE8F3",
            "linecolor": "#A2B1C6",
            "ticks": ""
           }
          },
          "title": {
           "x": 0.05
          },
          "xaxis": {
           "automargin": true,
           "gridcolor": "#EBF0F8",
           "linecolor": "#EBF0F8",
           "ticks": "",
           "title": {
            "standoff": 15
           },
           "zerolinecolor": "#EBF0F8",
           "zerolinewidth": 2
          },
          "yaxis": {
           "automargin": true,
           "gridcolor": "#EBF0F8",
           "linecolor": "#EBF0F8",
           "ticks": "",
           "title": {
            "standoff": 15
           },
           "zerolinecolor": "#EBF0F8",
           "zerolinewidth": 2
          }
         }
        },
        "title": {
         "text": "Distribution of Fraud and Cybercrime Categories",
         "x": 0.5,
         "xanchor": "center"
        },
        "xaxis": {
         "anchor": "y",
         "domain": [
          0,
          1
         ],
         "title": {
          "text": "Number of Cases"
         }
        },
        "yaxis": {
         "anchor": "x",
         "domain": [
          0,
          1
         ],
         "title": {
          "text": ""
         }
        }
       }
      }
     },
     "metadata": {},
     "output_type": "display_data"
    }
   ],
   "source": [
    "# Clean dollar loss data\n",
    "df['Dollar Loss Clean'] = df['Dollar Loss /pertes financires'].astype(str).str.replace('$', '')\n",
    "df['Dollar Loss Clean'] = df['Dollar Loss Clean'].str.replace(',', '')\n",
    "df['Dollar Loss Clean'] = pd.to_numeric(df['Dollar Loss Clean'], errors='coerce')\n",
    "\n",
    "# 1. Fraud and cybercrime thematic categories (Bar Chart)\n",
    "fraud_categories = df['Fraud and Cybercrime Thematic Categories'].value_counts().reset_index()\n",
    "fraud_categories.columns = ['Category', 'Count']\n",
    "\n",
    "fig1 = px.bar(fraud_categories,\n",
    "             x='Count',\n",
    "             y='Category',\n",
    "             orientation='h',\n",
    "             title='Distribution of Fraud and Cybercrime Categories',\n",
    "             template='plotly_white',\n",
    "             color='Count',\n",
    "             color_continuous_scale='Viridis')\n",
    "\n",
    "fig1.update_layout(\n",
    "    title={\n",
    "        'text': 'Distribution of Fraud and Cybercrime Categories',\n",
    "        'x': 0.5,\n",
    "        'xanchor': 'center'\n",
    "    },\n",
    "    xaxis_title='Number of Cases',\n",
    "    yaxis_title='',\n",
    "    showlegend=False,\n",
    "    plot_bgcolor='white',\n",
    "    height=600  # Make it taller for better readability\n",
    ")\n",
    "\n",
    "# Add case count as text on bars\n",
    "fig1.update_traces(texttemplate='%{x:,.0f}', textposition='outside')\n",
    "\n",
    "fig1.show()"
   ]
  },
  {
   "cell_type": "code",
   "execution_count": 4,
   "id": "5896f43c",
   "metadata": {},
   "outputs": [
    {
     "data": {
      "application/vnd.plotly.v1+json": {
       "config": {
        "plotlyServerURL": "https://plot.ly"
       },
       "data": [
        {
         "branchvalues": "total",
         "customdata": [
          [
           "Bank Investigator<br>$40,213,791<br>(1.89%)<br>13,214 cases",
           40213790.87
          ],
          [
           "Charity / Donation<br>$282,453<br>(0.01%)<br>420 cases",
           282453.18
          ],
          [
           "Collection Agency<br>$129,040<br>(0.01%)<br>1,352 cases",
           129039.94
          ],
          [
           "Counterfeit Merchandise<br>$3,072,589<br>(0.14%)<br>13,128 cases",
           3072588.64
          ],
          [
           "Credit Card<br>$106,757<br>(0.01%)<br>60 cases",
           106756.53
          ],
          [
           "Directory<br>$49,038<br>(0.0%)<br>50 cases",
           49038.39
          ],
          [
           "Emergency (Jail, Accident, Hospital, Help)<br>$26,844,738<br>(1.26%)<br>7,422 cases",
           26844738.06
          ],
          [
           "Extortion<br>$70,144,354<br>(3.29%)<br>30,228 cases",
           70144353.66
          ],
          [
           "False Billing<br>$1,648,918<br>(0.08%)<br>1,904 cases",
           1648917.92
          ],
          [
           "Foreign Money Offer<br>$13,055,711<br>(0.61%)<br>1,276 cases",
           13055711.41
          ],
          [
           "Fraudulent Cheque<br>$7,938<br>(0.0%)<br>4 cases",
           7938
          ],
          [
           "GRANT<br>$6,261,546<br>(0.29%)<br>1,713 cases",
           6261546.390000001
          ],
          [
           "Health<br>$8,283<br>(0.0%)<br>78 cases",
           8282.82
          ],
          [
           "Identity Fraud<br>$0<br>(0.0%)<br>72,417 cases",
           null
          ],
          [
           "Incomplete<br>$164,242<br>(0.01%)<br>637 cases",
           164242.13
          ],
          [
           "Investments<br>$1,105,183,998<br>(51.86%)<br>16,709 cases",
           1105183997.78
          ],
          [
           "Job<br>$94,212,721<br>(4.42%)<br>12,127 cases",
           94212720.76
          ],
          [
           "Loan<br>$16,045,457<br>(0.75%)<br>1,706 cases",
           16045456.59
          ],
          [
           "Merchandise<br>$41,439,578<br>(1.94%)<br>16,225 cases",
           41439578.41
          ],
          [
           "Modem-Hijacking<br>$0<br>(0.0%)<br>2 cases",
           null
          ],
          [
           "Office Supplies<br>$0<br>(0.0%)<br>10 cases",
           null
          ],
          [
           "Other<br>$34,196,772<br>(1.6%)<br>9,286 cases",
           34196772.49
          ],
          [
           "Personal Info<br>$0<br>(0.0%)<br>25,944 cases",
           null
          ],
          [
           "Phishing<br>$0<br>(0.0%)<br>27,458 cases",
           null
          ],
          [
           "Prize<br>$17,792,380<br>(0.83%)<br>4,370 cases",
           17792380.41
          ],
          [
           "Psychics<br>$960,878<br>(0.05%)<br>136 cases",
           960878.3900000001
          ],
          [
           "Pyramid<br>$862,209<br>(0.04%)<br>289 cases",
           862209
          ],
          [
           "Recovery Pitch<br>$20,652,143<br>(0.97%)<br>1,316 cases",
           20652142.6
          ],
          [
           "Romance<br>$236,004,035<br>(11.07%)<br>5,810 cases",
           236004035.18
          ],
          [
           "Service<br>$76,037,033<br>(3.57%)<br>23,897 cases",
           76037033
          ],
          [
           "Spear Phishing<br>$238,806,525<br>(11.21%)<br>5,645 cases",
           238806524.99
          ],
          [
           "Spoofing<br>$45<br>(0.0%)<br>206 cases",
           45
          ],
          [
           "Survey<br>$1,102<br>(0.0%)<br>112 cases",
           1101.56
          ],
          [
           "Telecom Fraud<br>$4,823<br>(0.0%)<br>86 cases",
           4823.24
          ],
          [
           "Timeshare<br>$7,989,353<br>(0.37%)<br>177 cases",
           7989352.94
          ],
          [
           "Unauthorized Charge<br>$72,001<br>(0.0%)<br>99 cases",
           72000.54
          ],
          [
           "Unknown<br>$54,865,107<br>(2.57%)<br>8,724 cases",
           54865107.23
          ],
          [
           "Vacation<br>$284,557<br>(0.01%)<br>131 cases",
           284557.16000000003
          ],
          [
           "Vendor Fraud<br>$23,728,223<br>(1.11%)<br>9,608 cases",
           23728223.179999996
          ],
          [
           "(?)",
           639952898.6700835
          ]
         ],
         "domain": {
          "x": [
           0,
           1
          ],
          "y": [
           0,
           1
          ]
         },
         "hovertemplate": "%{customdata[0]}<extra></extra>",
         "ids": [
          "All Types/Bank Investigator",
          "All Types/Charity / Donation",
          "All Types/Collection Agency",
          "All Types/Counterfeit Merchandise",
          "All Types/Credit Card",
          "All Types/Directory",
          "All Types/Emergency (Jail, Accident, Hospital, Help)",
          "All Types/Extortion",
          "All Types/False Billing",
          "All Types/Foreign Money Offer",
          "All Types/Fraudulent Cheque",
          "All Types/GRANT",
          "All Types/Health",
          "All Types/Identity Fraud",
          "All Types/Incomplete",
          "All Types/Investments",
          "All Types/Job",
          "All Types/Loan",
          "All Types/Merchandise",
          "All Types/Modem-Hijacking",
          "All Types/Office Supplies",
          "All Types/Other",
          "All Types/Personal Info",
          "All Types/Phishing",
          "All Types/Prize",
          "All Types/Psychics",
          "All Types/Pyramid",
          "All Types/Recovery Pitch",
          "All Types/Romance",
          "All Types/Service",
          "All Types/Spear Phishing",
          "All Types/Spoofing",
          "All Types/Survey",
          "All Types/Telecom Fraud",
          "All Types/Timeshare",
          "All Types/Unauthorized Charge",
          "All Types/Unknown",
          "All Types/Vacation",
          "All Types/Vendor Fraud",
          "All Types"
         ],
         "labels": [
          "Bank Investigator",
          "Charity / Donation",
          "Collection Agency",
          "Counterfeit Merchandise",
          "Credit Card",
          "Directory",
          "Emergency (Jail, Accident, Hospital, Help)",
          "Extortion",
          "False Billing",
          "Foreign Money Offer",
          "Fraudulent Cheque",
          "GRANT",
          "Health",
          "Identity Fraud",
          "Incomplete",
          "Investments",
          "Job",
          "Loan",
          "Merchandise",
          "Modem-Hijacking",
          "Office Supplies",
          "Other",
          "Personal Info",
          "Phishing",
          "Prize",
          "Psychics",
          "Pyramid",
          "Recovery Pitch",
          "Romance",
          "Service",
          "Spear Phishing",
          "Spoofing",
          "Survey",
          "Telecom Fraud",
          "Timeshare",
          "Unauthorized Charge",
          "Unknown",
          "Vacation",
          "Vendor Fraud",
          "All Types"
         ],
         "marker": {
          "coloraxis": "coloraxis",
          "colors": {
           "bdata": "j8L19ugsg0GF61G4VD0RQaRwPQr/gP9AH4XrUSZxR0GuR+F6SBD6QK5H4XrM8edAj8L1IOSZeUEK16OGRbmQQbgehesVKTlBUrge7dvmaEEAAAAAAAK/QJDC9ZjK4ldBXI/C9WgtwEAAAAAAAAD4/6RwPQqRDARBhetxP/F30EFxPQrDSXaWQa5H4RKymm5BFK5H04rCg0EAAAAAAAD4/wAAAAAAAPj/H4XrI2lOgEEAAAAAAAD4/wAAAAAAAPj/KVyPxtf3cEF8FK7H3FItQQAAAAACUCpBmpmZ6Qayc0H2KFyGRSKsQQAAAKTuIJJBSOH6+ct3rEEAAAAAAIBGQArXo3A9NpFACtejcD3XskDD9Sg8GnpeQT0K16MIlPFAPQrXmWYpikE+CtejNF4RQa1H4fIFoXZBTMVVAXQSw0E=",
           "dtype": "f8"
          }
         },
         "name": "",
         "parents": [
          "All Types",
          "All Types",
          "All Types",
          "All Types",
          "All Types",
          "All Types",
          "All Types",
          "All Types",
          "All Types",
          "All Types",
          "All Types",
          "All Types",
          "All Types",
          "All Types",
          "All Types",
          "All Types",
          "All Types",
          "All Types",
          "All Types",
          "All Types",
          "All Types",
          "All Types",
          "All Types",
          "All Types",
          "All Types",
          "All Types",
          "All Types",
          "All Types",
          "All Types",
          "All Types",
          "All Types",
          "All Types",
          "All Types",
          "All Types",
          "All Types",
          "All Types",
          "All Types",
          "All Types",
          "All Types",
          ""
         ],
         "textinfo": "label+value",
         "type": "treemap",
         "values": {
          "bdata": "j8L19ugsg0GF61G4VD0RQaRwPQr/gP9AH4XrUSZxR0GuR+F6SBD6QK5H4XrM8edAj8L1IOSZeUEK16OGRbmQQbgehesVKTlBUrge7dvmaEEAAAAAAAK/QI/C9ZjK4ldBXI/C9WgtwEAAAAAAAAAAAKRwPQqRDARBhetxP/F30EFxPQrDSXaWQa5H4RKymm5BFK5H04rCg0EAAAAAAAAAAAAAAAAAAAAAH4XrI2lOgEEAAAAAAAAAAAAAAAAAAAAAKVyPxtf3cEF7FK7H3FItQQAAAAACUCpBmpmZ6Qayc0H2KFyGRSKsQQAAAKTuIJJBSOH6+ct3rEEAAAAAAIBGQArXo3A9NpFACtejcD3XskDD9Sg8GnpeQT0K16MIlPFAPQrXmWYpikE+CtejNF4RQa5H4fIFoXZBw/WYBJzB30E=",
          "dtype": "f8"
         }
        }
       ],
       "layout": {
        "coloraxis": {
         "colorbar": {
          "title": {
           "text": "Dollar Loss Clean"
          }
         },
         "colorscale": [
          [
           0,
           "#440154"
          ],
          [
           0.1111111111111111,
           "#482878"
          ],
          [
           0.2222222222222222,
           "#3e4989"
          ],
          [
           0.3333333333333333,
           "#31688e"
          ],
          [
           0.4444444444444444,
           "#26828e"
          ],
          [
           0.5555555555555556,
           "#1f9e89"
          ],
          [
           0.6666666666666666,
           "#35b779"
          ],
          [
           0.7777777777777778,
           "#6ece58"
          ],
          [
           0.8888888888888888,
           "#b5de2b"
          ],
          [
           1,
           "#fde725"
          ]
         ]
        },
        "height": 600,
        "legend": {
         "tracegroupgap": 0
        },
        "template": {
         "data": {
          "bar": [
           {
            "error_x": {
             "color": "#2a3f5f"
            },
            "error_y": {
             "color": "#2a3f5f"
            },
            "marker": {
             "line": {
              "color": "white",
              "width": 0.5
             },
             "pattern": {
              "fillmode": "overlay",
              "size": 10,
              "solidity": 0.2
             }
            },
            "type": "bar"
           }
          ],
          "barpolar": [
           {
            "marker": {
             "line": {
              "color": "white",
              "width": 0.5
             },
             "pattern": {
              "fillmode": "overlay",
              "size": 10,
              "solidity": 0.2
             }
            },
            "type": "barpolar"
           }
          ],
          "carpet": [
           {
            "aaxis": {
             "endlinecolor": "#2a3f5f",
             "gridcolor": "#C8D4E3",
             "linecolor": "#C8D4E3",
             "minorgridcolor": "#C8D4E3",
             "startlinecolor": "#2a3f5f"
            },
            "baxis": {
             "endlinecolor": "#2a3f5f",
             "gridcolor": "#C8D4E3",
             "linecolor": "#C8D4E3",
             "minorgridcolor": "#C8D4E3",
             "startlinecolor": "#2a3f5f"
            },
            "type": "carpet"
           }
          ],
          "choropleth": [
           {
            "colorbar": {
             "outlinewidth": 0,
             "ticks": ""
            },
            "type": "choropleth"
           }
          ],
          "contour": [
           {
            "colorbar": {
             "outlinewidth": 0,
             "ticks": ""
            },
            "colorscale": [
             [
              0,
              "#0d0887"
             ],
             [
              0.1111111111111111,
              "#46039f"
             ],
             [
              0.2222222222222222,
              "#7201a8"
             ],
             [
              0.3333333333333333,
              "#9c179e"
             ],
             [
              0.4444444444444444,
              "#bd3786"
             ],
             [
              0.5555555555555556,
              "#d8576b"
             ],
             [
              0.6666666666666666,
              "#ed7953"
             ],
             [
              0.7777777777777778,
              "#fb9f3a"
             ],
             [
              0.8888888888888888,
              "#fdca26"
             ],
             [
              1,
              "#f0f921"
             ]
            ],
            "type": "contour"
           }
          ],
          "contourcarpet": [
           {
            "colorbar": {
             "outlinewidth": 0,
             "ticks": ""
            },
            "type": "contourcarpet"
           }
          ],
          "heatmap": [
           {
            "colorbar": {
             "outlinewidth": 0,
             "ticks": ""
            },
            "colorscale": [
             [
              0,
              "#0d0887"
             ],
             [
              0.1111111111111111,
              "#46039f"
             ],
             [
              0.2222222222222222,
              "#7201a8"
             ],
             [
              0.3333333333333333,
              "#9c179e"
             ],
             [
              0.4444444444444444,
              "#bd3786"
             ],
             [
              0.5555555555555556,
              "#d8576b"
             ],
             [
              0.6666666666666666,
              "#ed7953"
             ],
             [
              0.7777777777777778,
              "#fb9f3a"
             ],
             [
              0.8888888888888888,
              "#fdca26"
             ],
             [
              1,
              "#f0f921"
             ]
            ],
            "type": "heatmap"
           }
          ],
          "histogram": [
           {
            "marker": {
             "pattern": {
              "fillmode": "overlay",
              "size": 10,
              "solidity": 0.2
             }
            },
            "type": "histogram"
           }
          ],
          "histogram2d": [
           {
            "colorbar": {
             "outlinewidth": 0,
             "ticks": ""
            },
            "colorscale": [
             [
              0,
              "#0d0887"
             ],
             [
              0.1111111111111111,
              "#46039f"
             ],
             [
              0.2222222222222222,
              "#7201a8"
             ],
             [
              0.3333333333333333,
              "#9c179e"
             ],
             [
              0.4444444444444444,
              "#bd3786"
             ],
             [
              0.5555555555555556,
              "#d8576b"
             ],
             [
              0.6666666666666666,
              "#ed7953"
             ],
             [
              0.7777777777777778,
              "#fb9f3a"
             ],
             [
              0.8888888888888888,
              "#fdca26"
             ],
             [
              1,
              "#f0f921"
             ]
            ],
            "type": "histogram2d"
           }
          ],
          "histogram2dcontour": [
           {
            "colorbar": {
             "outlinewidth": 0,
             "ticks": ""
            },
            "colorscale": [
             [
              0,
              "#0d0887"
             ],
             [
              0.1111111111111111,
              "#46039f"
             ],
             [
              0.2222222222222222,
              "#7201a8"
             ],
             [
              0.3333333333333333,
              "#9c179e"
             ],
             [
              0.4444444444444444,
              "#bd3786"
             ],
             [
              0.5555555555555556,
              "#d8576b"
             ],
             [
              0.6666666666666666,
              "#ed7953"
             ],
             [
              0.7777777777777778,
              "#fb9f3a"
             ],
             [
              0.8888888888888888,
              "#fdca26"
             ],
             [
              1,
              "#f0f921"
             ]
            ],
            "type": "histogram2dcontour"
           }
          ],
          "mesh3d": [
           {
            "colorbar": {
             "outlinewidth": 0,
             "ticks": ""
            },
            "type": "mesh3d"
           }
          ],
          "parcoords": [
           {
            "line": {
             "colorbar": {
              "outlinewidth": 0,
              "ticks": ""
             }
            },
            "type": "parcoords"
           }
          ],
          "pie": [
           {
            "automargin": true,
            "type": "pie"
           }
          ],
          "scatter": [
           {
            "fillpattern": {
             "fillmode": "overlay",
             "size": 10,
             "solidity": 0.2
            },
            "type": "scatter"
           }
          ],
          "scatter3d": [
           {
            "line": {
             "colorbar": {
              "outlinewidth": 0,
              "ticks": ""
             }
            },
            "marker": {
             "colorbar": {
              "outlinewidth": 0,
              "ticks": ""
             }
            },
            "type": "scatter3d"
           }
          ],
          "scattercarpet": [
           {
            "marker": {
             "colorbar": {
              "outlinewidth": 0,
              "ticks": ""
             }
            },
            "type": "scattercarpet"
           }
          ],
          "scattergeo": [
           {
            "marker": {
             "colorbar": {
              "outlinewidth": 0,
              "ticks": ""
             }
            },
            "type": "scattergeo"
           }
          ],
          "scattergl": [
           {
            "marker": {
             "colorbar": {
              "outlinewidth": 0,
              "ticks": ""
             }
            },
            "type": "scattergl"
           }
          ],
          "scattermap": [
           {
            "marker": {
             "colorbar": {
              "outlinewidth": 0,
              "ticks": ""
             }
            },
            "type": "scattermap"
           }
          ],
          "scattermapbox": [
           {
            "marker": {
             "colorbar": {
              "outlinewidth": 0,
              "ticks": ""
             }
            },
            "type": "scattermapbox"
           }
          ],
          "scatterpolar": [
           {
            "marker": {
             "colorbar": {
              "outlinewidth": 0,
              "ticks": ""
             }
            },
            "type": "scatterpolar"
           }
          ],
          "scatterpolargl": [
           {
            "marker": {
             "colorbar": {
              "outlinewidth": 0,
              "ticks": ""
             }
            },
            "type": "scatterpolargl"
           }
          ],
          "scatterternary": [
           {
            "marker": {
             "colorbar": {
              "outlinewidth": 0,
              "ticks": ""
             }
            },
            "type": "scatterternary"
           }
          ],
          "surface": [
           {
            "colorbar": {
             "outlinewidth": 0,
             "ticks": ""
            },
            "colorscale": [
             [
              0,
              "#0d0887"
             ],
             [
              0.1111111111111111,
              "#46039f"
             ],
             [
              0.2222222222222222,
              "#7201a8"
             ],
             [
              0.3333333333333333,
              "#9c179e"
             ],
             [
              0.4444444444444444,
              "#bd3786"
             ],
             [
              0.5555555555555556,
              "#d8576b"
             ],
             [
              0.6666666666666666,
              "#ed7953"
             ],
             [
              0.7777777777777778,
              "#fb9f3a"
             ],
             [
              0.8888888888888888,
              "#fdca26"
             ],
             [
              1,
              "#f0f921"
             ]
            ],
            "type": "surface"
           }
          ],
          "table": [
           {
            "cells": {
             "fill": {
              "color": "#EBF0F8"
             },
             "line": {
              "color": "white"
             }
            },
            "header": {
             "fill": {
              "color": "#C8D4E3"
             },
             "line": {
              "color": "white"
             }
            },
            "type": "table"
           }
          ]
         },
         "layout": {
          "annotationdefaults": {
           "arrowcolor": "#2a3f5f",
           "arrowhead": 0,
           "arrowwidth": 1
          },
          "autotypenumbers": "strict",
          "coloraxis": {
           "colorbar": {
            "outlinewidth": 0,
            "ticks": ""
           }
          },
          "colorscale": {
           "diverging": [
            [
             0,
             "#8e0152"
            ],
            [
             0.1,
             "#c51b7d"
            ],
            [
             0.2,
             "#de77ae"
            ],
            [
             0.3,
             "#f1b6da"
            ],
            [
             0.4,
             "#fde0ef"
            ],
            [
             0.5,
             "#f7f7f7"
            ],
            [
             0.6,
             "#e6f5d0"
            ],
            [
             0.7,
             "#b8e186"
            ],
            [
             0.8,
             "#7fbc41"
            ],
            [
             0.9,
             "#4d9221"
            ],
            [
             1,
             "#276419"
            ]
           ],
           "sequential": [
            [
             0,
             "#0d0887"
            ],
            [
             0.1111111111111111,
             "#46039f"
            ],
            [
             0.2222222222222222,
             "#7201a8"
            ],
            [
             0.3333333333333333,
             "#9c179e"
            ],
            [
             0.4444444444444444,
             "#bd3786"
            ],
            [
             0.5555555555555556,
             "#d8576b"
            ],
            [
             0.6666666666666666,
             "#ed7953"
            ],
            [
             0.7777777777777778,
             "#fb9f3a"
            ],
            [
             0.8888888888888888,
             "#fdca26"
            ],
            [
             1,
             "#f0f921"
            ]
           ],
           "sequentialminus": [
            [
             0,
             "#0d0887"
            ],
            [
             0.1111111111111111,
             "#46039f"
            ],
            [
             0.2222222222222222,
             "#7201a8"
            ],
            [
             0.3333333333333333,
             "#9c179e"
            ],
            [
             0.4444444444444444,
             "#bd3786"
            ],
            [
             0.5555555555555556,
             "#d8576b"
            ],
            [
             0.6666666666666666,
             "#ed7953"
            ],
            [
             0.7777777777777778,
             "#fb9f3a"
            ],
            [
             0.8888888888888888,
             "#fdca26"
            ],
            [
             1,
             "#f0f921"
            ]
           ]
          },
          "colorway": [
           "#636efa",
           "#EF553B",
           "#00cc96",
           "#ab63fa",
           "#FFA15A",
           "#19d3f3",
           "#FF6692",
           "#B6E880",
           "#FF97FF",
           "#FECB52"
          ],
          "font": {
           "color": "#2a3f5f"
          },
          "geo": {
           "bgcolor": "white",
           "lakecolor": "white",
           "landcolor": "white",
           "showlakes": true,
           "showland": true,
           "subunitcolor": "#C8D4E3"
          },
          "hoverlabel": {
           "align": "left"
          },
          "hovermode": "closest",
          "mapbox": {
           "style": "light"
          },
          "paper_bgcolor": "white",
          "plot_bgcolor": "white",
          "polar": {
           "angularaxis": {
            "gridcolor": "#EBF0F8",
            "linecolor": "#EBF0F8",
            "ticks": ""
           },
           "bgcolor": "white",
           "radialaxis": {
            "gridcolor": "#EBF0F8",
            "linecolor": "#EBF0F8",
            "ticks": ""
           }
          },
          "scene": {
           "xaxis": {
            "backgroundcolor": "white",
            "gridcolor": "#DFE8F3",
            "gridwidth": 2,
            "linecolor": "#EBF0F8",
            "showbackground": true,
            "ticks": "",
            "zerolinecolor": "#EBF0F8"
           },
           "yaxis": {
            "backgroundcolor": "white",
            "gridcolor": "#DFE8F3",
            "gridwidth": 2,
            "linecolor": "#EBF0F8",
            "showbackground": true,
            "ticks": "",
            "zerolinecolor": "#EBF0F8"
           },
           "zaxis": {
            "backgroundcolor": "white",
            "gridcolor": "#DFE8F3",
            "gridwidth": 2,
            "linecolor": "#EBF0F8",
            "showbackground": true,
            "ticks": "",
            "zerolinecolor": "#EBF0F8"
           }
          },
          "shapedefaults": {
           "line": {
            "color": "#2a3f5f"
           }
          },
          "ternary": {
           "aaxis": {
            "gridcolor": "#DFE8F3",
            "linecolor": "#A2B1C6",
            "ticks": ""
           },
           "baxis": {
            "gridcolor": "#DFE8F3",
            "linecolor": "#A2B1C6",
            "ticks": ""
           },
           "bgcolor": "white",
           "caxis": {
            "gridcolor": "#DFE8F3",
            "linecolor": "#A2B1C6",
            "ticks": ""
           }
          },
          "title": {
           "x": 0.05
          },
          "xaxis": {
           "automargin": true,
           "gridcolor": "#EBF0F8",
           "linecolor": "#EBF0F8",
           "ticks": "",
           "title": {
            "standoff": 15
           },
           "zerolinecolor": "#EBF0F8",
           "zerolinewidth": 2
          },
          "yaxis": {
           "automargin": true,
           "gridcolor": "#EBF0F8",
           "linecolor": "#EBF0F8",
           "ticks": "",
           "title": {
            "standoff": 15
           },
           "zerolinecolor": "#EBF0F8",
           "zerolinewidth": 2
          }
         }
        },
        "title": {
         "text": "Dollar Loss Distribution by Fraud Type",
         "x": 0.5,
         "xanchor": "center"
        }
       }
      }
     },
     "metadata": {},
     "output_type": "display_data"
    }
   ],
   "source": [
    "# 2. Dollar loss per fraud type (Treemap)\n",
    "fraud_loss = df.groupby('Fraud and Cybercrime Thematic Categories').agg({\n",
    "    'Dollar Loss Clean': 'sum',\n",
    "    'Numro d\\'identification / Number ID': 'count'  # Count of cases\n",
    "}).reset_index()\n",
    "\n",
    "# Calculate percentage of total loss\n",
    "total_loss = fraud_loss['Dollar Loss Clean'].sum()\n",
    "fraud_loss['Percentage'] = (fraud_loss['Dollar Loss Clean'] / total_loss * 100).round(2)\n",
    "\n",
    "# Create labels with category, loss amount and case count\n",
    "fraud_loss['Label'] = fraud_loss.apply(\n",
    "    lambda x: f\"{x['Fraud and Cybercrime Thematic Categories']}<br>\"\n",
    "             f\"${x['Dollar Loss Clean']:,.0f}<br>\"\n",
    "             f\"({x['Percentage']}%)<br>\"\n",
    "             f\"{x['Numro d\\'identification / Number ID']:,} cases\",\n",
    "    axis=1\n",
    ")\n",
    "\n",
    "fig2 = px.treemap(\n",
    "    fraud_loss,\n",
    "    path=[px.Constant('All Types'), 'Fraud and Cybercrime Thematic Categories'],\n",
    "    values='Dollar Loss Clean',\n",
    "    custom_data=['Label'],\n",
    "    title='Dollar Loss Distribution by Fraud Type',\n",
    "    template='plotly_white',\n",
    "    color='Dollar Loss Clean',\n",
    "    color_continuous_scale='Viridis'\n",
    ")\n",
    "\n",
    "fig2.update_traces(\n",
    "    hovertemplate='%{customdata[0]}<extra></extra>',\n",
    "    textinfo='label+value'\n",
    ")\n",
    "\n",
    "fig2.update_layout(\n",
    "    title={\n",
    "        'text': 'Dollar Loss Distribution by Fraud Type',\n",
    "        'x': 0.5,\n",
    "        'xanchor': 'center'\n",
    "    },\n",
    "    height=600\n",
    ")\n",
    "\n",
    "fig2.show()"
   ]
  },
  {
   "cell_type": "code",
   "execution_count": 5,
   "id": "3ba9df48",
   "metadata": {},
   "outputs": [
    {
     "data": {
      "application/vnd.plotly.v1+json": {
       "config": {
        "plotlyServerURL": "https://plot.ly"
       },
       "data": [
        {
         "hovertemplate": "Complaint Type=Attempt<br>Fraud and Cybercrime Thematic Categories=%{x}<br>Percentage=%{y}<extra></extra>",
         "legendgroup": "Attempt",
         "marker": {
          "color": "rgb(141,211,199)",
          "pattern": {
           "shape": ""
          }
         },
         "name": "Attempt",
         "orientation": "v",
         "showlegend": true,
         "textposition": "auto",
         "type": "bar",
         "x": [
          "Bank Investigator",
          "Charity / Donation",
          "Collection Agency",
          "Counterfeit Merchandise",
          "Credit Card",
          "Directory",
          "Emergency (Jail, Accident, Hospital, Help)",
          "Extortion",
          "False Billing",
          "Foreign Money Offer",
          "Fraudulent Cheque",
          "GRANT",
          "Health",
          "Identity Fraud",
          "Incomplete",
          "Investments",
          "Job",
          "Loan",
          "Merchandise",
          "Modem-Hijacking",
          "Office Supplies",
          "Other",
          "Personal Info",
          "Phishing",
          "Prize",
          "Psychics",
          "Pyramid",
          "Recovery Pitch",
          "Romance",
          "Service",
          "Spear Phishing",
          "Spoofing",
          "Survey",
          "Telecom Fraud",
          "Timeshare",
          "Unauthorized Charge",
          "Unknown",
          "Vacation",
          "Vendor Fraud"
         ],
         "xaxis": "x",
         "y": {
          "bdata": "E+BHb7gYUEBJkiRJkqRNQElQUyHaMFVA/KUYEqwJ8j+rqqqqqqoaQAAAAAAAAFNASZcRfzLcTEBZJoSno21SQL2YT72YX1BABsf4tuTdU0AAAAAAAMBSQKkYywE05EVAqqqqqqqqUEA6FnDFdX3uPyWfhG4xqUFAPRAs9DNNHUDJOxBhNhBAQC3I0THydTNAGgf+nGJWMUAAAAAAAAAAAAAAAAAAgFFAgpgm7HcLQ0CAIuGU5sU6QJkA4DPi/VJAgj2be5lSUUClpaWlpSU+QJoSiwN89DBA6S2dhruXRECz72DUhnY1QPA+1W6GczxAh/Oey87wRkDMIj6BVHIyQCVJkiRJwlRANmVNWVPWR0BkK4KGk7o3QH+lQK1fKSBAav+AcSXNUECQkmcZ0QdAQD76irQBuEJA",
          "dtype": "f8"
         },
         "yaxis": "y"
        },
        {
         "hovertemplate": "Complaint Type=Incomplete<br>Fraud and Cybercrime Thematic Categories=%{x}<br>Percentage=%{y}<extra></extra>",
         "legendgroup": "Incomplete",
         "marker": {
          "color": "rgb(255,255,179)",
          "pattern": {
           "shape": ""
          }
         },
         "name": "Incomplete",
         "orientation": "v",
         "showlegend": true,
         "textposition": "auto",
         "type": "bar",
         "x": [
          "Bank Investigator",
          "Charity / Donation",
          "Collection Agency",
          "Counterfeit Merchandise",
          "Credit Card",
          "Directory",
          "Emergency (Jail, Accident, Hospital, Help)",
          "Extortion",
          "False Billing",
          "Foreign Money Offer",
          "Fraudulent Cheque",
          "GRANT",
          "Health",
          "Identity Fraud",
          "Incomplete",
          "Investments",
          "Job",
          "Loan",
          "Merchandise",
          "Modem-Hijacking",
          "Office Supplies",
          "Other",
          "Personal Info",
          "Phishing",
          "Prize",
          "Psychics",
          "Pyramid",
          "Recovery Pitch",
          "Romance",
          "Service",
          "Spear Phishing",
          "Spoofing",
          "Survey",
          "Telecom Fraud",
          "Timeshare",
          "Unauthorized Charge",
          "Unknown",
          "Vacation",
          "Vendor Fraud"
         ],
         "xaxis": "x",
         "y": {
          "bdata": "AAAAAAAAAAAAAAAAAAAAAB2l21dW77I/AAAAAAAAAAAAAAAAAAAAAAAAAAAAAAAAAAAAAAAAAABy+BKQxxmLP5sI5JoI5Ko/KnUS1wwQtD8AAAAAAAAAAKTnkvma460/AAAAAAAAAAAx2yvK2t2qP61lfz+KyEdAA20xLmWknj82Rj7GT+OwP6V71EwAA74/WGeq0Lc+iT8AAAAAAAAAAAAAAAAAAAAAX8/l6ICKsD+MVHPhiK6nP7YGmMcwyKA/1sTw8bdupz8AAAAAAAAAAAAAAAAAAAAAAAAAAAAAAAAQharZ6m+qP+XZbOflI4E/xRWgjtMjkj8AAAAAAAAAAAAAAAAAAAAAAAAAAAAAAAAAAAAAAAAAAAAAAAAAAAAApoBYNr0k2z8AAAAAAAAAAONYDzjJUIU/",
          "dtype": "f8"
         },
         "yaxis": "y"
        },
        {
         "hovertemplate": "Complaint Type=Other<br>Fraud and Cybercrime Thematic Categories=%{x}<br>Percentage=%{y}<extra></extra>",
         "legendgroup": "Other",
         "marker": {
          "color": "rgb(190,186,218)",
          "pattern": {
           "shape": ""
          }
         },
         "name": "Other",
         "orientation": "v",
         "showlegend": true,
         "textposition": "auto",
         "type": "bar",
         "x": [
          "Bank Investigator",
          "Charity / Donation",
          "Collection Agency",
          "Counterfeit Merchandise",
          "Credit Card",
          "Directory",
          "Emergency (Jail, Accident, Hospital, Help)",
          "Extortion",
          "False Billing",
          "Foreign Money Offer",
          "Fraudulent Cheque",
          "GRANT",
          "Health",
          "Identity Fraud",
          "Incomplete",
          "Investments",
          "Job",
          "Loan",
          "Merchandise",
          "Modem-Hijacking",
          "Office Supplies",
          "Other",
          "Personal Info",
          "Phishing",
          "Prize",
          "Psychics",
          "Pyramid",
          "Recovery Pitch",
          "Romance",
          "Service",
          "Spear Phishing",
          "Spoofing",
          "Survey",
          "Telecom Fraud",
          "Timeshare",
          "Unauthorized Charge",
          "Unknown",
          "Vacation",
          "Vendor Fraud"
         ],
         "xaxis": "x",
         "y": {
          "bdata": "FEm+X1f/3j9JkiRJkiQRQAgDzrgWCeo/7WlxwehMyz8AAAAAAAAUQAAAAAAAAAAAK+1uSBr95T+JOkC4DS/nP5sI5JoI5Mo/wK+bQhMY7j8AAAAAAAAAAKTnkvma490/NEiDNEiDBEBN56oHZweyP8vThe8cGOQ/whGl4kv75j+r3rR4ltjkP71cnzlAguY/RhdddNFF5z8AAAAAAABJQAAAAAAAADRA/FngqR3iQkBofxap5sLhP0YHOtg0LsI/1sTw8bdu1z+Hh4eHh4fnP835JlSBrgtAKXMMcPBzsz+PGQ5g7gfWP1MOH3VDv+I/UKC1By7t+j+lkvOyiE9PQAAAAAAAAAAAAAAAAAAAAAAAAAAAAAAAAAAAAAAAAAAArtjCtMxwI0AAAAAAAAAAAP9DEV/i+uc/",
          "dtype": "f8"
         },
         "yaxis": "y"
        },
        {
         "hovertemplate": "Complaint Type=Unknown<br>Fraud and Cybercrime Thematic Categories=%{x}<br>Percentage=%{y}<extra></extra>",
         "legendgroup": "Unknown",
         "marker": {
          "color": "rgb(251,128,114)",
          "pattern": {
           "shape": ""
          }
         },
         "name": "Unknown",
         "orientation": "v",
         "showlegend": true,
         "textposition": "auto",
         "type": "bar",
         "x": [
          "Bank Investigator",
          "Charity / Donation",
          "Collection Agency",
          "Counterfeit Merchandise",
          "Credit Card",
          "Directory",
          "Emergency (Jail, Accident, Hospital, Help)",
          "Extortion",
          "False Billing",
          "Foreign Money Offer",
          "Fraudulent Cheque",
          "GRANT",
          "Health",
          "Identity Fraud",
          "Incomplete",
          "Investments",
          "Job",
          "Loan",
          "Merchandise",
          "Modem-Hijacking",
          "Office Supplies",
          "Other",
          "Personal Info",
          "Phishing",
          "Prize",
          "Psychics",
          "Pyramid",
          "Recovery Pitch",
          "Romance",
          "Service",
          "Spear Phishing",
          "Spoofing",
          "Survey",
          "Telecom Fraud",
          "Timeshare",
          "Unauthorized Charge",
          "Unknown",
          "Vacation",
          "Vendor Fraud"
         ],
         "xaxis": "x",
         "y": {
          "bdata": "FEm+X1f/nj+f53me53nOPx2l21dW77I/y1qqXH5mlz8AAAAAAAAAAAAAAAAAAABAfAZe0/iXmz9kmRCejraXP5sI5JoI5Lo/KnUS1wwQxD8AAAAAAAAAAKTnkvma460/AAAAAAAAAAAR3+O03gmYPzYDWMknofs/jifi6ywczT9RaV2p91S5P71cnzlAgsY/48CfU8yqtz8AAAAAAAAAAAAAAAAAAAAAyJhvCO3H8j9OjQYH9aC7PzUISEnmgqQ/oJN09QmTwT8AAAAAAAAAAHFhUkM0JeY/vawSqOgt3T8QharZ6m/KP8BC0QKhWrQ/xRWgjtMjoj8AAAAAAAAAAAAAAAAAAAAAp6wpa8qa8j8DXm+jPxTyPwAAAAAAAAAAUo+/IBXcGUDoA6pjb23oPxsvE4b7pKo/",
          "dtype": "f8"
         },
         "yaxis": "y"
        },
        {
         "hovertemplate": "Complaint Type=Victim<br>Fraud and Cybercrime Thematic Categories=%{x}<br>Percentage=%{y}<extra></extra>",
         "legendgroup": "Victim",
         "marker": {
          "color": "rgb(128,177,211)",
          "pattern": {
           "shape": ""
          }
         },
         "name": "Victim",
         "orientation": "v",
         "showlegend": true,
         "textposition": "auto",
         "type": "bar",
         "x": [
          "Bank Investigator",
          "Charity / Donation",
          "Collection Agency",
          "Counterfeit Merchandise",
          "Credit Card",
          "Directory",
          "Emergency (Jail, Accident, Hospital, Help)",
          "Extortion",
          "False Billing",
          "Foreign Money Offer",
          "Fraudulent Cheque",
          "GRANT",
          "Health",
          "Identity Fraud",
          "Incomplete",
          "Investments",
          "Job",
          "Loan",
          "Merchandise",
          "Modem-Hijacking",
          "Office Supplies",
          "Other",
          "Personal Info",
          "Phishing",
          "Prize",
          "Psychics",
          "Pyramid",
          "Recovery Pitch",
          "Romance",
          "Service",
          "Spear Phishing",
          "Spoofing",
          "Survey",
          "Telecom Fraud",
          "Timeshare",
          "Unauthorized Charge",
          "Unknown",
          "Vacation",
          "Vendor Fraud"
         ],
         "xaxis": "x",
         "y": {
          "bdata": "f8vEh7CMQUCGYRiGYRhCQPYueTDgjCxADhpxc7yoWEBVVVVVVRVWQAAAAAAAADZAQkGyGGbIREBC3pMXqIY5QHa/UXa/EUFADM+CY3xbM0AAAAAAAAA5QBX4xPoS0UtAT+zETuzEPkBgoW7hprlYQBKPzH9qgy1AriAvzL3sVkBzkaqQpcNQQG5K6BK94lNAx1YEDSd1VEAAAAAAAABJQAAAAAAAACRAqTuCgsvnNkBUmhd/IiFSQIcZRzt10TdAWWXnwQEpPkCHh4eHh0dRQMhe9YsiuVNAhKbary4kTUBnq79p0HtTQHCC8BUAuFFAbuPNVPowSkDst9oYmu4yQG7btm3b9jBAZk1ZU9aUSUCvt9EfCslSQFDrVwrU+lZAK1CRomsvMECw4oSUPMtQQPC6g3YU4E5A",
          "dtype": "f8"
         },
         "yaxis": "y"
        }
       ],
       "layout": {
        "barmode": "stack",
        "height": 600,
        "legend": {
         "title": {
          "text": "Complaint Type"
         },
         "tracegroupgap": 0
        },
        "plot_bgcolor": "white",
        "showlegend": true,
        "template": {
         "data": {
          "bar": [
           {
            "error_x": {
             "color": "#2a3f5f"
            },
            "error_y": {
             "color": "#2a3f5f"
            },
            "marker": {
             "line": {
              "color": "white",
              "width": 0.5
             },
             "pattern": {
              "fillmode": "overlay",
              "size": 10,
              "solidity": 0.2
             }
            },
            "type": "bar"
           }
          ],
          "barpolar": [
           {
            "marker": {
             "line": {
              "color": "white",
              "width": 0.5
             },
             "pattern": {
              "fillmode": "overlay",
              "size": 10,
              "solidity": 0.2
             }
            },
            "type": "barpolar"
           }
          ],
          "carpet": [
           {
            "aaxis": {
             "endlinecolor": "#2a3f5f",
             "gridcolor": "#C8D4E3",
             "linecolor": "#C8D4E3",
             "minorgridcolor": "#C8D4E3",
             "startlinecolor": "#2a3f5f"
            },
            "baxis": {
             "endlinecolor": "#2a3f5f",
             "gridcolor": "#C8D4E3",
             "linecolor": "#C8D4E3",
             "minorgridcolor": "#C8D4E3",
             "startlinecolor": "#2a3f5f"
            },
            "type": "carpet"
           }
          ],
          "choropleth": [
           {
            "colorbar": {
             "outlinewidth": 0,
             "ticks": ""
            },
            "type": "choropleth"
           }
          ],
          "contour": [
           {
            "colorbar": {
             "outlinewidth": 0,
             "ticks": ""
            },
            "colorscale": [
             [
              0,
              "#0d0887"
             ],
             [
              0.1111111111111111,
              "#46039f"
             ],
             [
              0.2222222222222222,
              "#7201a8"
             ],
             [
              0.3333333333333333,
              "#9c179e"
             ],
             [
              0.4444444444444444,
              "#bd3786"
             ],
             [
              0.5555555555555556,
              "#d8576b"
             ],
             [
              0.6666666666666666,
              "#ed7953"
             ],
             [
              0.7777777777777778,
              "#fb9f3a"
             ],
             [
              0.8888888888888888,
              "#fdca26"
             ],
             [
              1,
              "#f0f921"
             ]
            ],
            "type": "contour"
           }
          ],
          "contourcarpet": [
           {
            "colorbar": {
             "outlinewidth": 0,
             "ticks": ""
            },
            "type": "contourcarpet"
           }
          ],
          "heatmap": [
           {
            "colorbar": {
             "outlinewidth": 0,
             "ticks": ""
            },
            "colorscale": [
             [
              0,
              "#0d0887"
             ],
             [
              0.1111111111111111,
              "#46039f"
             ],
             [
              0.2222222222222222,
              "#7201a8"
             ],
             [
              0.3333333333333333,
              "#9c179e"
             ],
             [
              0.4444444444444444,
              "#bd3786"
             ],
             [
              0.5555555555555556,
              "#d8576b"
             ],
             [
              0.6666666666666666,
              "#ed7953"
             ],
             [
              0.7777777777777778,
              "#fb9f3a"
             ],
             [
              0.8888888888888888,
              "#fdca26"
             ],
             [
              1,
              "#f0f921"
             ]
            ],
            "type": "heatmap"
           }
          ],
          "histogram": [
           {
            "marker": {
             "pattern": {
              "fillmode": "overlay",
              "size": 10,
              "solidity": 0.2
             }
            },
            "type": "histogram"
           }
          ],
          "histogram2d": [
           {
            "colorbar": {
             "outlinewidth": 0,
             "ticks": ""
            },
            "colorscale": [
             [
              0,
              "#0d0887"
             ],
             [
              0.1111111111111111,
              "#46039f"
             ],
             [
              0.2222222222222222,
              "#7201a8"
             ],
             [
              0.3333333333333333,
              "#9c179e"
             ],
             [
              0.4444444444444444,
              "#bd3786"
             ],
             [
              0.5555555555555556,
              "#d8576b"
             ],
             [
              0.6666666666666666,
              "#ed7953"
             ],
             [
              0.7777777777777778,
              "#fb9f3a"
             ],
             [
              0.8888888888888888,
              "#fdca26"
             ],
             [
              1,
              "#f0f921"
             ]
            ],
            "type": "histogram2d"
           }
          ],
          "histogram2dcontour": [
           {
            "colorbar": {
             "outlinewidth": 0,
             "ticks": ""
            },
            "colorscale": [
             [
              0,
              "#0d0887"
             ],
             [
              0.1111111111111111,
              "#46039f"
             ],
             [
              0.2222222222222222,
              "#7201a8"
             ],
             [
              0.3333333333333333,
              "#9c179e"
             ],
             [
              0.4444444444444444,
              "#bd3786"
             ],
             [
              0.5555555555555556,
              "#d8576b"
             ],
             [
              0.6666666666666666,
              "#ed7953"
             ],
             [
              0.7777777777777778,
              "#fb9f3a"
             ],
             [
              0.8888888888888888,
              "#fdca26"
             ],
             [
              1,
              "#f0f921"
             ]
            ],
            "type": "histogram2dcontour"
           }
          ],
          "mesh3d": [
           {
            "colorbar": {
             "outlinewidth": 0,
             "ticks": ""
            },
            "type": "mesh3d"
           }
          ],
          "parcoords": [
           {
            "line": {
             "colorbar": {
              "outlinewidth": 0,
              "ticks": ""
             }
            },
            "type": "parcoords"
           }
          ],
          "pie": [
           {
            "automargin": true,
            "type": "pie"
           }
          ],
          "scatter": [
           {
            "fillpattern": {
             "fillmode": "overlay",
             "size": 10,
             "solidity": 0.2
            },
            "type": "scatter"
           }
          ],
          "scatter3d": [
           {
            "line": {
             "colorbar": {
              "outlinewidth": 0,
              "ticks": ""
             }
            },
            "marker": {
             "colorbar": {
              "outlinewidth": 0,
              "ticks": ""
             }
            },
            "type": "scatter3d"
           }
          ],
          "scattercarpet": [
           {
            "marker": {
             "colorbar": {
              "outlinewidth": 0,
              "ticks": ""
             }
            },
            "type": "scattercarpet"
           }
          ],
          "scattergeo": [
           {
            "marker": {
             "colorbar": {
              "outlinewidth": 0,
              "ticks": ""
             }
            },
            "type": "scattergeo"
           }
          ],
          "scattergl": [
           {
            "marker": {
             "colorbar": {
              "outlinewidth": 0,
              "ticks": ""
             }
            },
            "type": "scattergl"
           }
          ],
          "scattermap": [
           {
            "marker": {
             "colorbar": {
              "outlinewidth": 0,
              "ticks": ""
             }
            },
            "type": "scattermap"
           }
          ],
          "scattermapbox": [
           {
            "marker": {
             "colorbar": {
              "outlinewidth": 0,
              "ticks": ""
             }
            },
            "type": "scattermapbox"
           }
          ],
          "scatterpolar": [
           {
            "marker": {
             "colorbar": {
              "outlinewidth": 0,
              "ticks": ""
             }
            },
            "type": "scatterpolar"
           }
          ],
          "scatterpolargl": [
           {
            "marker": {
             "colorbar": {
              "outlinewidth": 0,
              "ticks": ""
             }
            },
            "type": "scatterpolargl"
           }
          ],
          "scatterternary": [
           {
            "marker": {
             "colorbar": {
              "outlinewidth": 0,
              "ticks": ""
             }
            },
            "type": "scatterternary"
           }
          ],
          "surface": [
           {
            "colorbar": {
             "outlinewidth": 0,
             "ticks": ""
            },
            "colorscale": [
             [
              0,
              "#0d0887"
             ],
             [
              0.1111111111111111,
              "#46039f"
             ],
             [
              0.2222222222222222,
              "#7201a8"
             ],
             [
              0.3333333333333333,
              "#9c179e"
             ],
             [
              0.4444444444444444,
              "#bd3786"
             ],
             [
              0.5555555555555556,
              "#d8576b"
             ],
             [
              0.6666666666666666,
              "#ed7953"
             ],
             [
              0.7777777777777778,
              "#fb9f3a"
             ],
             [
              0.8888888888888888,
              "#fdca26"
             ],
             [
              1,
              "#f0f921"
             ]
            ],
            "type": "surface"
           }
          ],
          "table": [
           {
            "cells": {
             "fill": {
              "color": "#EBF0F8"
             },
             "line": {
              "color": "white"
             }
            },
            "header": {
             "fill": {
              "color": "#C8D4E3"
             },
             "line": {
              "color": "white"
             }
            },
            "type": "table"
           }
          ]
         },
         "layout": {
          "annotationdefaults": {
           "arrowcolor": "#2a3f5f",
           "arrowhead": 0,
           "arrowwidth": 1
          },
          "autotypenumbers": "strict",
          "coloraxis": {
           "colorbar": {
            "outlinewidth": 0,
            "ticks": ""
           }
          },
          "colorscale": {
           "diverging": [
            [
             0,
             "#8e0152"
            ],
            [
             0.1,
             "#c51b7d"
            ],
            [
             0.2,
             "#de77ae"
            ],
            [
             0.3,
             "#f1b6da"
            ],
            [
             0.4,
             "#fde0ef"
            ],
            [
             0.5,
             "#f7f7f7"
            ],
            [
             0.6,
             "#e6f5d0"
            ],
            [
             0.7,
             "#b8e186"
            ],
            [
             0.8,
             "#7fbc41"
            ],
            [
             0.9,
             "#4d9221"
            ],
            [
             1,
             "#276419"
            ]
           ],
           "sequential": [
            [
             0,
             "#0d0887"
            ],
            [
             0.1111111111111111,
             "#46039f"
            ],
            [
             0.2222222222222222,
             "#7201a8"
            ],
            [
             0.3333333333333333,
             "#9c179e"
            ],
            [
             0.4444444444444444,
             "#bd3786"
            ],
            [
             0.5555555555555556,
             "#d8576b"
            ],
            [
             0.6666666666666666,
             "#ed7953"
            ],
            [
             0.7777777777777778,
             "#fb9f3a"
            ],
            [
             0.8888888888888888,
             "#fdca26"
            ],
            [
             1,
             "#f0f921"
            ]
           ],
           "sequentialminus": [
            [
             0,
             "#0d0887"
            ],
            [
             0.1111111111111111,
             "#46039f"
            ],
            [
             0.2222222222222222,
             "#7201a8"
            ],
            [
             0.3333333333333333,
             "#9c179e"
            ],
            [
             0.4444444444444444,
             "#bd3786"
            ],
            [
             0.5555555555555556,
             "#d8576b"
            ],
            [
             0.6666666666666666,
             "#ed7953"
            ],
            [
             0.7777777777777778,
             "#fb9f3a"
            ],
            [
             0.8888888888888888,
             "#fdca26"
            ],
            [
             1,
             "#f0f921"
            ]
           ]
          },
          "colorway": [
           "#636efa",
           "#EF553B",
           "#00cc96",
           "#ab63fa",
           "#FFA15A",
           "#19d3f3",
           "#FF6692",
           "#B6E880",
           "#FF97FF",
           "#FECB52"
          ],
          "font": {
           "color": "#2a3f5f"
          },
          "geo": {
           "bgcolor": "white",
           "lakecolor": "white",
           "landcolor": "white",
           "showlakes": true,
           "showland": true,
           "subunitcolor": "#C8D4E3"
          },
          "hoverlabel": {
           "align": "left"
          },
          "hovermode": "closest",
          "mapbox": {
           "style": "light"
          },
          "paper_bgcolor": "white",
          "plot_bgcolor": "white",
          "polar": {
           "angularaxis": {
            "gridcolor": "#EBF0F8",
            "linecolor": "#EBF0F8",
            "ticks": ""
           },
           "bgcolor": "white",
           "radialaxis": {
            "gridcolor": "#EBF0F8",
            "linecolor": "#EBF0F8",
            "ticks": ""
           }
          },
          "scene": {
           "xaxis": {
            "backgroundcolor": "white",
            "gridcolor": "#DFE8F3",
            "gridwidth": 2,
            "linecolor": "#EBF0F8",
            "showbackground": true,
            "ticks": "",
            "zerolinecolor": "#EBF0F8"
           },
           "yaxis": {
            "backgroundcolor": "white",
            "gridcolor": "#DFE8F3",
            "gridwidth": 2,
            "linecolor": "#EBF0F8",
            "showbackground": true,
            "ticks": "",
            "zerolinecolor": "#EBF0F8"
           },
           "zaxis": {
            "backgroundcolor": "white",
            "gridcolor": "#DFE8F3",
            "gridwidth": 2,
            "linecolor": "#EBF0F8",
            "showbackground": true,
            "ticks": "",
            "zerolinecolor": "#EBF0F8"
           }
          },
          "shapedefaults": {
           "line": {
            "color": "#2a3f5f"
           }
          },
          "ternary": {
           "aaxis": {
            "gridcolor": "#DFE8F3",
            "linecolor": "#A2B1C6",
            "ticks": ""
           },
           "baxis": {
            "gridcolor": "#DFE8F3",
            "linecolor": "#A2B1C6",
            "ticks": ""
           },
           "bgcolor": "white",
           "caxis": {
            "gridcolor": "#DFE8F3",
            "linecolor": "#A2B1C6",
            "ticks": ""
           }
          },
          "title": {
           "x": 0.05
          },
          "xaxis": {
           "automargin": true,
           "gridcolor": "#EBF0F8",
           "linecolor": "#EBF0F8",
           "ticks": "",
           "title": {
            "standoff": 15
           },
           "zerolinecolor": "#EBF0F8",
           "zerolinewidth": 2
          },
          "yaxis": {
           "automargin": true,
           "gridcolor": "#EBF0F8",
           "linecolor": "#EBF0F8",
           "ticks": "",
           "title": {
            "standoff": 15
           },
           "zerolinecolor": "#EBF0F8",
           "zerolinewidth": 2
          }
         }
        },
        "title": {
         "text": "Co-occurrence of Fraud Types and Complaint Types",
         "x": 0.5,
         "xanchor": "center"
        },
        "xaxis": {
         "anchor": "y",
         "domain": [
          0,
          1
         ],
         "tickangle": 45,
         "title": {
          "text": "Fraud Category"
         }
        },
        "yaxis": {
         "anchor": "x",
         "domain": [
          0,
          1
         ],
         "title": {
          "text": "Percentage"
         }
        }
       }
      }
     },
     "metadata": {},
     "output_type": "display_data"
    }
   ],
   "source": [
    "# 3. Co-occurrence of fraud types with complaint types (Stacked Bar)\n",
    "# Create cross-tabulation of fraud categories and complaint types\n",
    "cooccurrence = pd.crosstab(\n",
    "    df['Fraud and Cybercrime Thematic Categories'],\n",
    "    df['Complaint Type']\n",
    ")\n",
    "\n",
    "# Convert to percentage for better visualization\n",
    "cooccurrence_pct = cooccurrence.div(cooccurrence.sum(axis=1), axis=0) * 100\n",
    "\n",
    "fig3 = px.bar(\n",
    "    cooccurrence_pct.reset_index().melt(\n",
    "        id_vars='Fraud and Cybercrime Thematic Categories',\n",
    "        var_name='Complaint Type',\n",
    "        value_name='Percentage'\n",
    "    ),\n",
    "    x='Fraud and Cybercrime Thematic Categories',\n",
    "    y='Percentage',\n",
    "    color='Complaint Type',\n",
    "    title='Co-occurrence of Fraud Types and Complaint Types',\n",
    "    template='plotly_white',\n",
    "    color_discrete_sequence=px.colors.qualitative.Set3\n",
    ")\n",
    "\n",
    "fig3.update_layout(\n",
    "    title={\n",
    "        'text': 'Co-occurrence of Fraud Types and Complaint Types',\n",
    "        'x': 0.5,\n",
    "        'xanchor': 'center'\n",
    "    },\n",
    "    xaxis_title='Fraud Category',\n",
    "    yaxis_title='Percentage',\n",
    "    barmode='stack',\n",
    "    showlegend=True,\n",
    "    legend_title='Complaint Type',\n",
    "    plot_bgcolor='white',\n",
    "    height=600,\n",
    "    xaxis={'tickangle': 45}\n",
    ")\n",
    "\n",
    "fig3.show()"
   ]
  }
 ],
 "metadata": {
  "kernelspec": {
   "display_name": "Python 3",
   "language": "python",
   "name": "python3"
  },
  "language_info": {
   "codemirror_mode": {
    "name": "ipython",
    "version": 3
   },
   "file_extension": ".py",
   "mimetype": "text/x-python",
   "name": "python",
   "nbconvert_exporter": "python",
   "pygments_lexer": "ipython3",
   "version": "3.12.9"
  }
 },
 "nbformat": 4,
 "nbformat_minor": 5
}
