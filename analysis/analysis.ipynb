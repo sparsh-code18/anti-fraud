{
 "cells": [
  {
   "cell_type": "code",
   "execution_count": 1,
   "id": "dee2e1ca",
   "metadata": {},
   "outputs": [],
   "source": [
    "import pandas as pd\n",
    "import matplotlib.pyplot as plt \n",
    "import numpy as np\n",
    "import seaborn as sns"
   ]
  },
  {
   "cell_type": "code",
   "execution_count": 2,
   "id": "9e16e81d",
   "metadata": {},
   "outputs": [
    {
     "data": {
      "text/html": [
       "<div>\n",
       "<style scoped>\n",
       "    .dataframe tbody tr th:only-of-type {\n",
       "        vertical-align: middle;\n",
       "    }\n",
       "\n",
       "    .dataframe tbody tr th {\n",
       "        vertical-align: top;\n",
       "    }\n",
       "\n",
       "    .dataframe thead th {\n",
       "        text-align: right;\n",
       "    }\n",
       "</style>\n",
       "<table border=\"1\" class=\"dataframe\">\n",
       "  <thead>\n",
       "    <tr style=\"text-align: right;\">\n",
       "      <th></th>\n",
       "      <th>Numro d'identification / Number ID</th>\n",
       "      <th>Date Received / Date reue</th>\n",
       "      <th>Complaint Received Type</th>\n",
       "      <th>Type de plainte reue</th>\n",
       "      <th>Country</th>\n",
       "      <th>Pays</th>\n",
       "      <th>Province/State</th>\n",
       "      <th>Province/tat</th>\n",
       "      <th>Fraud and Cybercrime Thematic Categories</th>\n",
       "      <th>Catgories thmatiques sur la fraude et la cybercriminalit</th>\n",
       "      <th>...</th>\n",
       "      <th>Mthode de sollicitation</th>\n",
       "      <th>Gender</th>\n",
       "      <th>Genre</th>\n",
       "      <th>Language of Correspondence</th>\n",
       "      <th>Langue de correspondance</th>\n",
       "      <th>Victim Age Range / Tranche d'ge des victimes</th>\n",
       "      <th>Complaint Type</th>\n",
       "      <th>Type de plainte</th>\n",
       "      <th>Number of Victims / Nombre de victimes</th>\n",
       "      <th>Dollar Loss /pertes financires</th>\n",
       "    </tr>\n",
       "  </thead>\n",
       "  <tbody>\n",
       "    <tr>\n",
       "      <th>0</th>\n",
       "      <td>1</td>\n",
       "      <td>2021-01-02</td>\n",
       "      <td>CAFC Website</td>\n",
       "      <td>CAFC site web</td>\n",
       "      <td>Canada</td>\n",
       "      <td>Canada</td>\n",
       "      <td>Nova Scotia</td>\n",
       "      <td>Nouvelle-cosse</td>\n",
       "      <td>Phishing</td>\n",
       "      <td>Hameonnage</td>\n",
       "      <td>...</td>\n",
       "      <td>Messages texte</td>\n",
       "      <td>Female</td>\n",
       "      <td>Femme</td>\n",
       "      <td>English</td>\n",
       "      <td>Anglais</td>\n",
       "      <td>'30 - 39</td>\n",
       "      <td>Attempt</td>\n",
       "      <td>Tentative</td>\n",
       "      <td>0</td>\n",
       "      <td>$0.00</td>\n",
       "    </tr>\n",
       "    <tr>\n",
       "      <th>1</th>\n",
       "      <td>2</td>\n",
       "      <td>2021-01-02</td>\n",
       "      <td>CAFC Website</td>\n",
       "      <td>CAFC site web</td>\n",
       "      <td>Canada</td>\n",
       "      <td>Canada</td>\n",
       "      <td>British Columbia</td>\n",
       "      <td>Colombie-Britanique</td>\n",
       "      <td>Identity Fraud</td>\n",
       "      <td>Fraude  l'identit</td>\n",
       "      <td>...</td>\n",
       "      <td>Autre/inconnu</td>\n",
       "      <td>Female</td>\n",
       "      <td>Femme</td>\n",
       "      <td>English</td>\n",
       "      <td>Anglais</td>\n",
       "      <td>'70 - 79</td>\n",
       "      <td>Victim</td>\n",
       "      <td>Victime</td>\n",
       "      <td>1</td>\n",
       "      <td>$0.00</td>\n",
       "    </tr>\n",
       "    <tr>\n",
       "      <th>2</th>\n",
       "      <td>3</td>\n",
       "      <td>2021-01-02</td>\n",
       "      <td>CAFC Website</td>\n",
       "      <td>CAFC site web</td>\n",
       "      <td>Not Specified</td>\n",
       "      <td>Non spcifi</td>\n",
       "      <td>Not Specified</td>\n",
       "      <td>Non spcifi</td>\n",
       "      <td>Romance</td>\n",
       "      <td>Romance</td>\n",
       "      <td>...</td>\n",
       "      <td>Autre/inconnu</td>\n",
       "      <td>Not Available</td>\n",
       "      <td>non disponible</td>\n",
       "      <td>Not Available</td>\n",
       "      <td>non disponible</td>\n",
       "      <td>'Not Available / non disponible</td>\n",
       "      <td>Victim</td>\n",
       "      <td>Victime</td>\n",
       "      <td>1</td>\n",
       "      <td>$298.00</td>\n",
       "    </tr>\n",
       "    <tr>\n",
       "      <th>3</th>\n",
       "      <td>4</td>\n",
       "      <td>2021-01-02</td>\n",
       "      <td>CAFC Website</td>\n",
       "      <td>CAFC site web</td>\n",
       "      <td>United States</td>\n",
       "      <td>tats-Unis</td>\n",
       "      <td>California</td>\n",
       "      <td>Californie</td>\n",
       "      <td>Foreign Money Offer</td>\n",
       "      <td>Offre dargent de ltranger</td>\n",
       "      <td>...</td>\n",
       "      <td>Courrier</td>\n",
       "      <td>Male</td>\n",
       "      <td>Homme</td>\n",
       "      <td>English</td>\n",
       "      <td>Anglais</td>\n",
       "      <td>'60 - 69</td>\n",
       "      <td>Attempt</td>\n",
       "      <td>Tentative</td>\n",
       "      <td>0</td>\n",
       "      <td>$0.00</td>\n",
       "    </tr>\n",
       "    <tr>\n",
       "      <th>4</th>\n",
       "      <td>5</td>\n",
       "      <td>2021-01-02</td>\n",
       "      <td>CAFC Website</td>\n",
       "      <td>CAFC site web</td>\n",
       "      <td>Canada</td>\n",
       "      <td>Canada</td>\n",
       "      <td>Ontario</td>\n",
       "      <td>Ontario</td>\n",
       "      <td>Merchandise</td>\n",
       "      <td>Marchandise</td>\n",
       "      <td>...</td>\n",
       "      <td>Internet</td>\n",
       "      <td>Female</td>\n",
       "      <td>Femme</td>\n",
       "      <td>English</td>\n",
       "      <td>Anglais</td>\n",
       "      <td>'20 - 29</td>\n",
       "      <td>Victim</td>\n",
       "      <td>Victime</td>\n",
       "      <td>1</td>\n",
       "      <td>$50.00</td>\n",
       "    </tr>\n",
       "    <tr>\n",
       "      <th>...</th>\n",
       "      <td>...</td>\n",
       "      <td>...</td>\n",
       "      <td>...</td>\n",
       "      <td>...</td>\n",
       "      <td>...</td>\n",
       "      <td>...</td>\n",
       "      <td>...</td>\n",
       "      <td>...</td>\n",
       "      <td>...</td>\n",
       "      <td>...</td>\n",
       "      <td>...</td>\n",
       "      <td>...</td>\n",
       "      <td>...</td>\n",
       "      <td>...</td>\n",
       "      <td>...</td>\n",
       "      <td>...</td>\n",
       "      <td>...</td>\n",
       "      <td>...</td>\n",
       "      <td>...</td>\n",
       "      <td>...</td>\n",
       "      <td>...</td>\n",
       "    </tr>\n",
       "    <tr>\n",
       "      <th>313971</th>\n",
       "      <td>313972</td>\n",
       "      <td>2024-12-31</td>\n",
       "      <td>Phone</td>\n",
       "      <td>Tlphone</td>\n",
       "      <td>Canada</td>\n",
       "      <td>Canada</td>\n",
       "      <td>Alberta</td>\n",
       "      <td>Alberta</td>\n",
       "      <td>Service</td>\n",
       "      <td>Service</td>\n",
       "      <td>...</td>\n",
       "      <td>Appel direct</td>\n",
       "      <td>Not Available</td>\n",
       "      <td>non disponible</td>\n",
       "      <td>English</td>\n",
       "      <td>Anglais</td>\n",
       "      <td>'70 - 79</td>\n",
       "      <td>Victim</td>\n",
       "      <td>Victime</td>\n",
       "      <td>1</td>\n",
       "      <td>$0.00</td>\n",
       "    </tr>\n",
       "    <tr>\n",
       "      <th>313972</th>\n",
       "      <td>313973</td>\n",
       "      <td>2024-12-31</td>\n",
       "      <td>Phone</td>\n",
       "      <td>Tlphone</td>\n",
       "      <td>Canada</td>\n",
       "      <td>Canada</td>\n",
       "      <td>Ontario</td>\n",
       "      <td>Ontario</td>\n",
       "      <td>Identity Fraud</td>\n",
       "      <td>Fraude  l'identit</td>\n",
       "      <td>...</td>\n",
       "      <td>Autre/inconnu</td>\n",
       "      <td>Not Available</td>\n",
       "      <td>non disponible</td>\n",
       "      <td>English</td>\n",
       "      <td>Anglais</td>\n",
       "      <td>'30 - 39</td>\n",
       "      <td>Victim</td>\n",
       "      <td>Victime</td>\n",
       "      <td>1</td>\n",
       "      <td>$0.00</td>\n",
       "    </tr>\n",
       "    <tr>\n",
       "      <th>313973</th>\n",
       "      <td>313974</td>\n",
       "      <td>2024-12-31</td>\n",
       "      <td>Phone</td>\n",
       "      <td>Tlphone</td>\n",
       "      <td>Canada</td>\n",
       "      <td>Canada</td>\n",
       "      <td>Quebec</td>\n",
       "      <td>Qubec</td>\n",
       "      <td>Service</td>\n",
       "      <td>Service</td>\n",
       "      <td>...</td>\n",
       "      <td>Appel direct</td>\n",
       "      <td>Male</td>\n",
       "      <td>Homme</td>\n",
       "      <td>French</td>\n",
       "      <td>Franais</td>\n",
       "      <td>'60 - 69</td>\n",
       "      <td>Victim</td>\n",
       "      <td>Victime</td>\n",
       "      <td>1</td>\n",
       "      <td>$0.00</td>\n",
       "    </tr>\n",
       "    <tr>\n",
       "      <th>313974</th>\n",
       "      <td>313975</td>\n",
       "      <td>2024-12-31</td>\n",
       "      <td>Phone</td>\n",
       "      <td>Tlphone</td>\n",
       "      <td>Canada</td>\n",
       "      <td>Canada</td>\n",
       "      <td>Quebec</td>\n",
       "      <td>Qubec</td>\n",
       "      <td>Extortion</td>\n",
       "      <td>Extorsion</td>\n",
       "      <td>...</td>\n",
       "      <td>Courriel</td>\n",
       "      <td>Female</td>\n",
       "      <td>Femme</td>\n",
       "      <td>French</td>\n",
       "      <td>Franais</td>\n",
       "      <td>'70 - 79</td>\n",
       "      <td>Victim</td>\n",
       "      <td>Victime</td>\n",
       "      <td>1</td>\n",
       "      <td>$0.00</td>\n",
       "    </tr>\n",
       "    <tr>\n",
       "      <th>313975</th>\n",
       "      <td>313976</td>\n",
       "      <td>2024-12-31</td>\n",
       "      <td>Phone</td>\n",
       "      <td>Tlphone</td>\n",
       "      <td>Canada</td>\n",
       "      <td>Canada</td>\n",
       "      <td>Quebec</td>\n",
       "      <td>Qubec</td>\n",
       "      <td>Unknown</td>\n",
       "      <td>Inconnu</td>\n",
       "      <td>...</td>\n",
       "      <td>Appel direct</td>\n",
       "      <td>Male</td>\n",
       "      <td>Homme</td>\n",
       "      <td>French</td>\n",
       "      <td>Franais</td>\n",
       "      <td>'60 - 69</td>\n",
       "      <td>Attempt</td>\n",
       "      <td>Tentative</td>\n",
       "      <td>0</td>\n",
       "      <td>$0.00</td>\n",
       "    </tr>\n",
       "  </tbody>\n",
       "</table>\n",
       "<p>313976 rows × 21 columns</p>\n",
       "</div>"
      ],
      "text/plain": [
       "        Numro d'identification / Number ID Date Received / Date reue  \\\n",
       "0                                        1                2021-01-02   \n",
       "1                                        2                2021-01-02   \n",
       "2                                        3                2021-01-02   \n",
       "3                                        4                2021-01-02   \n",
       "4                                        5                2021-01-02   \n",
       "...                                    ...                       ...   \n",
       "313971                              313972                2024-12-31   \n",
       "313972                              313973                2024-12-31   \n",
       "313973                              313974                2024-12-31   \n",
       "313974                              313975                2024-12-31   \n",
       "313975                              313976                2024-12-31   \n",
       "\n",
       "       Complaint Received Type Type de plainte reue        Country  \\\n",
       "0                 CAFC Website        CAFC site web         Canada   \n",
       "1                 CAFC Website        CAFC site web         Canada   \n",
       "2                 CAFC Website        CAFC site web  Not Specified   \n",
       "3                 CAFC Website        CAFC site web  United States   \n",
       "4                 CAFC Website        CAFC site web         Canada   \n",
       "...                        ...                  ...            ...   \n",
       "313971                   Phone              Tlphone         Canada   \n",
       "313972                   Phone              Tlphone         Canada   \n",
       "313973                   Phone              Tlphone         Canada   \n",
       "313974                   Phone              Tlphone         Canada   \n",
       "313975                   Phone              Tlphone         Canada   \n",
       "\n",
       "              Pays    Province/State         Province/tat  \\\n",
       "0           Canada       Nova Scotia       Nouvelle-cosse   \n",
       "1           Canada  British Columbia  Colombie-Britanique   \n",
       "2       Non spcifi     Not Specified           Non spcifi   \n",
       "3        tats-Unis        California           Californie   \n",
       "4           Canada           Ontario              Ontario   \n",
       "...            ...               ...                  ...   \n",
       "313971      Canada           Alberta              Alberta   \n",
       "313972      Canada           Ontario              Ontario   \n",
       "313973      Canada            Quebec                Qubec   \n",
       "313974      Canada            Quebec                Qubec   \n",
       "313975      Canada            Quebec                Qubec   \n",
       "\n",
       "       Fraud and Cybercrime Thematic Categories  \\\n",
       "0                                      Phishing   \n",
       "1                                Identity Fraud   \n",
       "2                                       Romance   \n",
       "3                           Foreign Money Offer   \n",
       "4                                   Merchandise   \n",
       "...                                         ...   \n",
       "313971                                  Service   \n",
       "313972                           Identity Fraud   \n",
       "313973                                  Service   \n",
       "313974                                Extortion   \n",
       "313975                                  Unknown   \n",
       "\n",
       "       Catgories thmatiques sur la fraude et la cybercriminalit  ...  \\\n",
       "0                                              Hameonnage        ...   \n",
       "1                                       Fraude  l'identit        ...   \n",
       "2                                                 Romance        ...   \n",
       "3                               Offre dargent de ltranger        ...   \n",
       "4                                             Marchandise        ...   \n",
       "...                                                   ...        ...   \n",
       "313971                                            Service        ...   \n",
       "313972                                  Fraude  l'identit        ...   \n",
       "313973                                            Service        ...   \n",
       "313974                                          Extorsion        ...   \n",
       "313975                                            Inconnu        ...   \n",
       "\n",
       "       Mthode de sollicitation         Gender           Genre  \\\n",
       "0               Messages texte         Female           Femme   \n",
       "1                Autre/inconnu         Female           Femme   \n",
       "2                Autre/inconnu  Not Available  non disponible   \n",
       "3                     Courrier           Male           Homme   \n",
       "4                     Internet         Female           Femme   \n",
       "...                        ...            ...             ...   \n",
       "313971            Appel direct  Not Available  non disponible   \n",
       "313972           Autre/inconnu  Not Available  non disponible   \n",
       "313973            Appel direct           Male           Homme   \n",
       "313974                Courriel         Female           Femme   \n",
       "313975            Appel direct           Male           Homme   \n",
       "\n",
       "       Language of Correspondence Langue de correspondance  \\\n",
       "0                         English                  Anglais   \n",
       "1                         English                  Anglais   \n",
       "2                   Not Available           non disponible   \n",
       "3                         English                  Anglais   \n",
       "4                         English                  Anglais   \n",
       "...                           ...                      ...   \n",
       "313971                    English                  Anglais   \n",
       "313972                    English                  Anglais   \n",
       "313973                     French                  Franais   \n",
       "313974                     French                  Franais   \n",
       "313975                     French                  Franais   \n",
       "\n",
       "       Victim Age Range / Tranche d'ge des victimes Complaint Type  \\\n",
       "0                                          '30 - 39        Attempt   \n",
       "1                                          '70 - 79         Victim   \n",
       "2                   'Not Available / non disponible         Victim   \n",
       "3                                          '60 - 69        Attempt   \n",
       "4                                          '20 - 29         Victim   \n",
       "...                                             ...            ...   \n",
       "313971                                     '70 - 79         Victim   \n",
       "313972                                     '30 - 39         Victim   \n",
       "313973                                     '60 - 69         Victim   \n",
       "313974                                     '70 - 79         Victim   \n",
       "313975                                     '60 - 69        Attempt   \n",
       "\n",
       "       Type de plainte Number of Victims / Nombre de victimes  \\\n",
       "0            Tentative                                      0   \n",
       "1              Victime                                      1   \n",
       "2              Victime                                      1   \n",
       "3            Tentative                                      0   \n",
       "4              Victime                                      1   \n",
       "...                ...                                    ...   \n",
       "313971         Victime                                      1   \n",
       "313972         Victime                                      1   \n",
       "313973         Victime                                      1   \n",
       "313974         Victime                                      1   \n",
       "313975       Tentative                                      0   \n",
       "\n",
       "        Dollar Loss /pertes financires  \n",
       "0                                $0.00  \n",
       "1                                $0.00  \n",
       "2                              $298.00  \n",
       "3                                $0.00  \n",
       "4                               $50.00  \n",
       "...                                ...  \n",
       "313971                           $0.00  \n",
       "313972                           $0.00  \n",
       "313973                           $0.00  \n",
       "313974                           $0.00  \n",
       "313975                           $0.00  \n",
       "\n",
       "[313976 rows x 21 columns]"
      ]
     },
     "execution_count": 2,
     "metadata": {},
     "output_type": "execute_result"
    }
   ],
   "source": [
    "df = pd.read_csv(\"Anti_Fraud_Centre_Data.csv\")\n",
    "df"
   ]
  },
  {
   "cell_type": "code",
   "execution_count": 3,
   "id": "89112573",
   "metadata": {},
   "outputs": [
    {
     "data": {
      "image/png": "[encoded data removed]",
      "text/plain": [
       "<Figure size 1000x700 with 1 Axes>"
      ]
     },
     "metadata": {},
     "output_type": "display_data"
    },
    {
     "name": "stdout",
     "output_type": "stream",
     "text": [
      "Fraud cases: 250 (8.3%)\n",
      "Non-fraud cases: 2750 (91.7%)\n"
     ]
    }
   ],
   "source": [
    "fraud_count = 250      # Replace with your actual fraud count\n",
    "non_fraud_count = 2750  # Replace with your actual non-fraud count\n",
    "\n",
    "# Data for pie chart\n",
    "labels = ['Fraud', 'Non-Fraud']\n",
    "sizes = [fraud_count, non_fraud_count]\n",
    "colors = ['#FF9999', '#66B2FF']\n",
    "explode = (0.1, 0)  # explode the 1st slice (Fraud) for emphasis\n",
    "\n",
    "# Create the pie chart\n",
    "plt.figure(figsize=(10,7))\n",
    "plt.pie(sizes, explode=explode, labels=labels, colors=colors,\n",
    "        autopct='%1.1f%%', shadow=True, startangle=90,\n",
    "        textprops={'fontsize': 14})\n",
    "\n",
    "# Equal aspect ratio ensures the pie chart is circular\n",
    "plt.axis('equal')  \n",
    "\n",
    "# Add title\n",
    "plt.title('Distribution of Fraud vs. Non-Fraud Cases', fontsize=16)\n",
    "\n",
    "# Add legend\n",
    "plt.legend(labels, loc=\"best\")\n",
    "\n",
    "# Show plot\n",
    "plt.tight_layout()\n",
    "plt.show()\n",
    "\n",
    "# Optional: Print the actual numbers\n",
    "print(f\"Fraud cases: {fraud_count} ({fraud_count/(fraud_count+non_fraud_count)*100:.1f}%)\")\n",
    "print(f\"Non-fraud cases: {non_fraud_count} ({non_fraud_count/(fraud_count+non_fraud_count)*100:.1f}%)\")"
   ]
  },
  {
   "cell_type": "code",
   "execution_count": 4,
   "id": "7e5e66d3",
   "metadata": {},
   "outputs": [],
   "source": [
    "#line chart"
   ]
  },
  {
   "cell_type": "code",
   "execution_count": 5,
   "id": "79d33172",
   "metadata": {},
   "outputs": [
    {
     "name": "stderr",
     "output_type": "stream",
     "text": [
      "<>:4: SyntaxWarning: invalid escape sequence '\\$'\n",
      "<>:4: SyntaxWarning: invalid escape sequence '\\$'\n",
      "C:\\Users\\Sparsh\\AppData\\Local\\Temp\\ipykernel_6540\\1166881701.py:4: SyntaxWarning: invalid escape sequence '\\$'\n",
      "  df['Dollar Loss /pertes financires'] = df['Dollar Loss /pertes financires'].replace('[\\$,]', '', regex=True).astype(float)\n"
     ]
    },
    {
     "data": {
      "image/png": "[encoded data removed]",
      "text/plain": [
       "<Figure size 1200x600 with 1 Axes>"
      ]
     },
     "metadata": {},
     "output_type": "display_data"
    }
   ],
   "source": [
    "df = pd.read_csv(\"Anti_Fraud_Centre_Data.csv\")\n",
    "\n",
    "# Clean and prepare the 'Dollar Loss' column\n",
    "df['Dollar Loss /pertes financires'] = df['Dollar Loss /pertes financires'].replace('[\\$,]', '', regex=True).astype(float)\n",
    "\n",
    "# Convert 'Date Received' to datetime\n",
    "df['Date Received / Date reue'] = pd.to_datetime(df['Date Received / Date reue'])\n",
    "\n",
    "# Group by date and sum dollar losses\n",
    "loss_over_time = df.groupby('Date Received / Date reue')['Dollar Loss /pertes financires'].sum()\n",
    "\n",
    "# Sort by date (in case it's not sorted)\n",
    "loss_over_time = loss_over_time.sort_index()\n",
    "\n",
    "# Plot the line chart\n",
    "plt.figure(figsize=(12, 6))\n",
    "plt.plot(loss_over_time.index, loss_over_time.values, color='red', linewidth=2)\n",
    "plt.title(\"Total Dollar Loss Over Time\")\n",
    "plt.xlabel(\"Date\")\n",
    "plt.ylabel(\"Total Dollar Loss (CAD)\")\n",
    "plt.grid(True)\n",
    "plt.tight_layout()\n",
    "plt.show()"
   ]
  },
  {
   "cell_type": "code",
   "execution_count": 6,
   "id": "505a1396",
   "metadata": {},
   "outputs": [
    {
     "data": {
      "image/png": "[encoded data removed]",
      "text/plain": [
       "<Figure size 800x500 with 1 Axes>"
      ]
     },
     "metadata": {},
     "output_type": "display_data"
    }
   ],
   "source": [
    "df = pd.read_csv(\"Anti_Fraud_Centre_Data.csv\")\n",
    "\n",
    "# Count complaint types\n",
    "complaint_counts = df['Complaint Type'].value_counts()\n",
    "\n",
    "# Plot bar chart\n",
    "plt.figure(figsize=(8, 5))\n",
    "plt.bar(complaint_counts.index, complaint_counts.values, color='skyblue', edgecolor='black')\n",
    "plt.title(\"Distribution of Complaint Types\")\n",
    "plt.xlabel(\"Complaint Type\")\n",
    "plt.ylabel(\"Number of Complaints\")\n",
    "plt.grid(axis='y', linestyle='--', alpha=0.7)\n",
    "plt.tight_layout()\n",
    "plt.show()\n",
    "\n",
    "\n",
    "\n",
    "\n",
    "\n",
    "\n",
    "\n",
    "\n",
    "\n",
    "\n"
   ]
  },
  {
   "cell_type": "code",
   "execution_count": 7,
   "id": "fa26959c",
   "metadata": {},
   "outputs": [
    {
     "name": "stderr",
     "output_type": "stream",
     "text": [
      "<>:4: SyntaxWarning: invalid escape sequence '\\$'\n",
      "<>:4: SyntaxWarning: invalid escape sequence '\\$'\n",
      "C:\\Users\\Sparsh\\AppData\\Local\\Temp\\ipykernel_6540\\2676026408.py:4: SyntaxWarning: invalid escape sequence '\\$'\n",
      "  df['Dollar Loss /pertes financires'] = df['Dollar Loss /pertes financires'].replace('[\\$,]', '', regex=True).astype(float)\n"
     ]
    },
    {
     "data": {
      "image/png": "[encoded data removed]",
      "text/plain": [
       "<Figure size 1000x1200 with 2 Axes>"
      ]
     },
     "metadata": {},
     "output_type": "display_data"
    }
   ],
   "source": [
    "df = pd.read_csv(\"Anti_Fraud_Centre_Data.csv\")\n",
    "\n",
    "# Clean the dollar loss column\n",
    "df['Dollar Loss /pertes financires'] = df['Dollar Loss /pertes financires'].replace('[\\$,]', '', regex=True).astype(float)\n",
    "\n",
    "# Group by province/state and sum the total dollar loss\n",
    "province_loss = df.groupby('Province/State')['Dollar Loss /pertes financires'].sum().sort_values(ascending=False)\n",
    "\n",
    "# Convert to DataFrame for heatmap\n",
    "heatmap_data = pd.DataFrame(province_loss)\n",
    "\n",
    "# Create a heatmap\n",
    "plt.figure(figsize=(10, 12))\n",
    "sns.heatmap(heatmap_data, annot=True, fmt=\".0f\", cmap=\"Reds\", linewidths=0.5, cbar_kws={'label': 'Total Dollar Loss'})\n",
    "plt.title(\"Fraud Intensity Across Provinces/States\")\n",
    "plt.xlabel(\"Province/State\")\n",
    "plt.ylabel(\"\")\n",
    "plt.tight_layout()\n",
    "plt.show()"
   ]
  },
  {
   "cell_type": "code",
   "execution_count": 2,
   "id": "c6bcbac7",
   "metadata": {},
   "outputs": [
    {
     "data": {
      "application/vnd.plotly.v1+json": {
       "config": {
        "plotlyServerURL": "https://plot.ly"
       },
       "data": [
        {
         "coloraxis": "coloraxis",
         "geo": "geo",
         "hovertemplate": "Country=%{location}<br>Fraud Count=%{z}<extra></extra>",
         "locationmode": "country names",
         "locations": [],
         "name": "",
         "type": "choropleth",
         "z": []
        }
       ],
       "layout": {
        "coloraxis": {
         "colorbar": {
          "title": {
           "text": "Fraud Count"
          }
         },
         "colorscale": [
          [
           0,
           "rgb(255,245,240)"
          ],
          [
           0.125,
           "rgb(254,224,210)"
          ],
          [
           0.25,
           "rgb(252,187,161)"
          ],
          [
           0.375,
           "rgb(252,146,114)"
          ],
          [
           0.5,
           "rgb(251,106,74)"
          ],
          [
           0.625,
           "rgb(239,59,44)"
          ],
          [
           0.75,
           "rgb(203,24,29)"
          ],
          [
           0.875,
           "rgb(165,15,21)"
          ],
          [
           1,
           "rgb(103,0,13)"
          ]
         ]
        },
        "geo": {
         "center": {},
         "domain": {
          "x": [
           0,
           1
          ],
          "y": [
           0,
           1
          ]
         }
        },
        "legend": {
         "tracegroupgap": 0
        },
        "template": {
         "data": {
          "bar": [
           {
            "error_x": {
             "color": "#2a3f5f"
            },
            "error_y": {
             "color": "#2a3f5f"
            },
            "marker": {
             "line": {
              "color": "#E5ECF6",
              "width": 0.5
             },
             "pattern": {
              "fillmode": "overlay",
              "size": 10,
              "solidity": 0.2
             }
            },
            "type": "bar"
           }
          ],
          "barpolar": [
           {
            "marker": {
             "line": {
              "color": "#E5ECF6",
              "width": 0.5
             },
             "pattern": {
              "fillmode": "overlay",
              "size": 10,
              "solidity": 0.2
             }
            },
            "type": "barpolar"
           }
          ],
          "carpet": [
           {
            "aaxis": {
             "endlinecolor": "#2a3f5f",
             "gridcolor": "white",
             "linecolor": "white",
             "minorgridcolor": "white",
             "startlinecolor": "#2a3f5f"
            },
            "baxis": {
             "endlinecolor": "#2a3f5f",
             "gridcolor": "white",
             "linecolor": "white",
             "minorgridcolor": "white",
             "startlinecolor": "#2a3f5f"
            },
            "type": "carpet"
           }
          ],
          "choropleth": [
           {
            "colorbar": {
             "outlinewidth": 0,
             "ticks": ""
            },
            "type": "choropleth"
           }
          ],
          "contour": [
           {
            "colorbar": {
             "outlinewidth": 0,
             "ticks": ""
            },
            "colorscale": [
             [
              0,
              "#0d0887"
             ],
             [
              0.1111111111111111,
              "#46039f"
             ],
             [
              0.2222222222222222,
              "#7201a8"
             ],
             [
              0.3333333333333333,
              "#9c179e"
             ],
             [
              0.4444444444444444,
              "#bd3786"
             ],
             [
              0.5555555555555556,
              "#d8576b"
             ],
             [
              0.6666666666666666,
              "#ed7953"
             ],
             [
              0.7777777777777778,
              "#fb9f3a"
             ],
             [
              0.8888888888888888,
              "#fdca26"
             ],
             [
              1,
              "#f0f921"
             ]
            ],
            "type": "contour"
           }
          ],
          "contourcarpet": [
           {
            "colorbar": {
             "outlinewidth": 0,
             "ticks": ""
            },
            "type": "contourcarpet"
           }
          ],
          "heatmap": [
           {
            "colorbar": {
             "outlinewidth": 0,
             "ticks": ""
            },
            "colorscale": [
             [
              0,
              "#0d0887"
             ],
             [
              0.1111111111111111,
              "#46039f"
             ],
             [
              0.2222222222222222,
              "#7201a8"
             ],
             [
              0.3333333333333333,
              "#9c179e"
             ],
             [
              0.4444444444444444,
              "#bd3786"
             ],
             [
              0.5555555555555556,
              "#d8576b"
             ],
             [
              0.6666666666666666,
              "#ed7953"
             ],
             [
              0.7777777777777778,
              "#fb9f3a"
             ],
             [
              0.8888888888888888,
              "#fdca26"
             ],
             [
              1,
              "#f0f921"
             ]
            ],
            "type": "heatmap"
           }
          ],
          "histogram": [
           {
            "marker": {
             "pattern": {
              "fillmode": "overlay",
              "size": 10,
              "solidity": 0.2
             }
            },
            "type": "histogram"
           }
          ],
          "histogram2d": [
           {
            "colorbar": {
             "outlinewidth": 0,
             "ticks": ""
            },
            "colorscale": [
             [
              0,
              "#0d0887"
             ],
             [
              0.1111111111111111,
              "#46039f"
             ],
             [
              0.2222222222222222,
              "#7201a8"
             ],
             [
              0.3333333333333333,
              "#9c179e"
             ],
             [
              0.4444444444444444,
              "#bd3786"
             ],
             [
              0.5555555555555556,
              "#d8576b"
             ],
             [
              0.6666666666666666,
              "#ed7953"
             ],
             [
              0.7777777777777778,
              "#fb9f3a"
             ],
             [
              0.8888888888888888,
              "#fdca26"
             ],
             [
              1,
              "#f0f921"
             ]
            ],
            "type": "histogram2d"
           }
          ],
          "histogram2dcontour": [
           {
            "colorbar": {
             "outlinewidth": 0,
             "ticks": ""
            },
            "colorscale": [
             [
              0,
              "#0d0887"
             ],
             [
              0.1111111111111111,
              "#46039f"
             ],
             [
              0.2222222222222222,
              "#7201a8"
             ],
             [
              0.3333333333333333,
              "#9c179e"
             ],
             [
              0.4444444444444444,
              "#bd3786"
             ],
             [
              0.5555555555555556,
              "#d8576b"
             ],
             [
              0.6666666666666666,
              "#ed7953"
             ],
             [
              0.7777777777777778,
              "#fb9f3a"
             ],
             [
              0.8888888888888888,
              "#fdca26"
             ],
             [
              1,
              "#f0f921"
             ]
            ],
            "type": "histogram2dcontour"
           }
          ],
          "mesh3d": [
           {
            "colorbar": {
             "outlinewidth": 0,
             "ticks": ""
            },
            "type": "mesh3d"
           }
          ],
          "parcoords": [
           {
            "line": {
             "colorbar": {
              "outlinewidth": 0,
              "ticks": ""
             }
            },
            "type": "parcoords"
           }
          ],
          "pie": [
           {
            "automargin": true,
            "type": "pie"
           }
          ],
          "scatter": [
           {
            "fillpattern": {
             "fillmode": "overlay",
             "size": 10,
             "solidity": 0.2
            },
            "type": "scatter"
           }
          ],
          "scatter3d": [
           {
            "line": {
             "colorbar": {
              "outlinewidth": 0,
              "ticks": ""
             }
            },
            "marker": {
             "colorbar": {
              "outlinewidth": 0,
              "ticks": ""
             }
            },
            "type": "scatter3d"
           }
          ],
          "scattercarpet": [
           {
            "marker": {
             "colorbar": {
              "outlinewidth": 0,
              "ticks": ""
             }
            },
            "type": "scattercarpet"
           }
          ],
          "scattergeo": [
           {
            "marker": {
             "colorbar": {
              "outlinewidth": 0,
              "ticks": ""
             }
            },
            "type": "scattergeo"
           }
          ],
          "scattergl": [
           {
            "marker": {
             "colorbar": {
              "outlinewidth": 0,
              "ticks": ""
             }
            },
            "type": "scattergl"
           }
          ],
          "scattermap": [
           {
            "marker": {
             "colorbar": {
              "outlinewidth": 0,
              "ticks": ""
             }
            },
            "type": "scattermap"
           }
          ],
          "scattermapbox": [
           {
            "marker": {
             "colorbar": {
              "outlinewidth": 0,
              "ticks": ""
             }
            },
            "type": "scattermapbox"
           }
          ],
          "scatterpolar": [
           {
            "marker": {
             "colorbar": {
              "outlinewidth": 0,
              "ticks": ""
             }
            },
            "type": "scatterpolar"
           }
          ],
          "scatterpolargl": [
           {
            "marker": {
             "colorbar": {
              "outlinewidth": 0,
              "ticks": ""
             }
            },
            "type": "scatterpolargl"
           }
          ],
          "scatterternary": [
           {
            "marker": {
             "colorbar": {
              "outlinewidth": 0,
              "ticks": ""
             }
            },
            "type": "scatterternary"
           }
          ],
          "surface": [
           {
            "colorbar": {
             "outlinewidth": 0,
             "ticks": ""
            },
            "colorscale": [
             [
              0,
              "#0d0887"
             ],
             [
              0.1111111111111111,
              "#46039f"
             ],
             [
              0.2222222222222222,
              "#7201a8"
             ],
             [
              0.3333333333333333,
              "#9c179e"
             ],
             [
              0.4444444444444444,
              "#bd3786"
             ],
             [
              0.5555555555555556,
              "#d8576b"
             ],
             [
              0.6666666666666666,
              "#ed7953"
             ],
             [
              0.7777777777777778,
              "#fb9f3a"
             ],
             [
              0.8888888888888888,
              "#fdca26"
             ],
             [
              1,
              "#f0f921"
             ]
            ],
            "type": "surface"
           }
          ],
          "table": [
           {
            "cells": {
             "fill": {
              "color": "#EBF0F8"
             },
             "line": {
              "color": "white"
             }
            },
            "header": {
             "fill": {
              "color": "#C8D4E3"
             },
             "line": {
              "color": "white"
             }
            },
            "type": "table"
           }
          ]
         },
         "layout": {
          "annotationdefaults": {
           "arrowcolor": "#2a3f5f",
           "arrowhead": 0,
           "arrowwidth": 1
          },
          "autotypenumbers": "strict",
          "coloraxis": {
           "colorbar": {
            "outlinewidth": 0,
            "ticks": ""
           }
          },
          "colorscale": {
           "diverging": [
            [
             0,
             "#8e0152"
            ],
            [
             0.1,
             "#c51b7d"
            ],
            [
             0.2,
             "#de77ae"
            ],
            [
             0.3,
             "#f1b6da"
            ],
            [
             0.4,
             "#fde0ef"
            ],
            [
             0.5,
             "#f7f7f7"
            ],
            [
             0.6,
             "#e6f5d0"
            ],
            [
             0.7,
             "#b8e186"
            ],
            [
             0.8,
             "#7fbc41"
            ],
            [
             0.9,
             "#4d9221"
            ],
            [
             1,
             "#276419"
            ]
           ],
           "sequential": [
            [
             0,
             "#0d0887"
            ],
            [
             0.1111111111111111,
             "#46039f"
            ],
            [
             0.2222222222222222,
             "#7201a8"
            ],
            [
             0.3333333333333333,
             "#9c179e"
            ],
            [
             0.4444444444444444,
             "#bd3786"
            ],
            [
             0.5555555555555556,
             "#d8576b"
            ],
            [
             0.6666666666666666,
             "#ed7953"
            ],
            [
             0.7777777777777778,
             "#fb9f3a"
            ],
            [
             0.8888888888888888,
             "#fdca26"
            ],
            [
             1,
             "#f0f921"
            ]
           ],
           "sequentialminus": [
            [
             0,
             "#0d0887"
            ],
            [
             0.1111111111111111,
             "#46039f"
            ],
            [
             0.2222222222222222,
             "#7201a8"
            ],
            [
             0.3333333333333333,
             "#9c179e"
            ],
            [
             0.4444444444444444,
             "#bd3786"
            ],
            [
             0.5555555555555556,
             "#d8576b"
            ],
            [
             0.6666666666666666,
             "#ed7953"
            ],
            [
             0.7777777777777778,
             "#fb9f3a"
            ],
            [
             0.8888888888888888,
             "#fdca26"
            ],
            [
             1,
             "#f0f921"
            ]
           ]
          },
          "colorway": [
           "#636efa",
           "#EF553B",
           "#00cc96",
           "#ab63fa",
           "#FFA15A",
           "#19d3f3",
           "#FF6692",
           "#B6E880",
           "#FF97FF",
           "#FECB52"
          ],
          "font": {
           "color": "#2a3f5f"
          },
          "geo": {
           "bgcolor": "white",
           "lakecolor": "white",
           "landcolor": "#E5ECF6",
           "showlakes": true,
           "showland": true,
           "subunitcolor": "white"
          },
          "hoverlabel": {
           "align": "left"
          },
          "hovermode": "closest",
          "mapbox": {
           "style": "light"
          },
          "paper_bgcolor": "white",
          "plot_bgcolor": "#E5ECF6",
          "polar": {
           "angularaxis": {
            "gridcolor": "white",
            "linecolor": "white",
            "ticks": ""
           },
           "bgcolor": "#E5ECF6",
           "radialaxis": {
            "gridcolor": "white",
            "linecolor": "white",
            "ticks": ""
           }
          },
          "scene": {
           "xaxis": {
            "backgroundcolor": "#E5ECF6",
            "gridcolor": "white",
            "gridwidth": 2,
            "linecolor": "white",
            "showbackground": true,
            "ticks": "",
            "zerolinecolor": "white"
           },
           "yaxis": {
            "backgroundcolor": "#E5ECF6",
            "gridcolor": "white",
            "gridwidth": 2,
            "linecolor": "white",
            "showbackground": true,
            "ticks": "",
            "zerolinecolor": "white"
           },
           "zaxis": {
            "backgroundcolor": "#E5ECF6",
            "gridcolor": "white",
            "gridwidth": 2,
            "linecolor": "white",
            "showbackground": true,
            "ticks": "",
            "zerolinecolor": "white"
           }
          },
          "shapedefaults": {
           "line": {
            "color": "#2a3f5f"
           }
          },
          "ternary": {
           "aaxis": {
            "gridcolor": "white",
            "linecolor": "white",
            "ticks": ""
           },
           "baxis": {
            "gridcolor": "white",
            "linecolor": "white",
            "ticks": ""
           },
           "bgcolor": "#E5ECF6",
           "caxis": {
            "gridcolor": "white",
            "linecolor": "white",
            "ticks": ""
           }
          },
          "title": {
           "x": 0.05
          },
          "xaxis": {
           "automargin": true,
           "gridcolor": "white",
           "linecolor": "white",
           "ticks": "",
           "title": {
            "standoff": 15
           },
           "zerolinecolor": "white",
           "zerolinewidth": 2
          },
          "yaxis": {
           "automargin": true,
           "gridcolor": "white",
           "linecolor": "white",
           "ticks": "",
           "title": {
            "standoff": 15
           },
           "zerolinecolor": "white",
           "zerolinewidth": 2
          }
         }
        },
        "title": {
         "text": "Fraud Cases by Country"
        }
       }
      }
     },
     "metadata": {},
     "output_type": "display_data"
    }
   ],
   "source": [
    "import pandas as pd\n",
    "import plotly.express as px\n",
    "\n",
    "# Load the dataset\n",
    "df = pd.read_csv(\"Anti_Fraud_Centre_Data.csv\")\n",
    "\n",
    "# 1. Fraud cases by country (Choropleth/Map)\n",
    "if 'Country' in df.columns and 'Complaint Type' in df.columns:\n",
    "    fraud_by_country = df[df['Complaint Type'] == 'Fraud'].groupby('Country').size().reset_index(name='Fraud Count')\n",
    "\n",
    "    fig_choropleth = px.choropleth(\n",
    "        fraud_by_country,\n",
    "        locations='Country',\n",
    "        locationmode='country names',\n",
    "        color='Fraud Count',\n",
    "        title=\"Fraud Cases by Country\",\n",
    "        color_continuous_scale='Reds'\n",
    "    )\n",
    "    fig_choropleth.show()\n",
    "else:\n",
    "    print(\"The dataset does not contain 'Country' or 'Case Type' columns.\")\n"
   ]
  },
  {
   "cell_type": "code",
   "execution_count": 1,
   "id": "d20ac5f5",
   "metadata": {},
   "outputs": [
    {
     "data": {
      "application/vnd.plotly.v1+json": {
       "config": {
        "plotlyServerURL": "https://plot.ly"
       },
       "data": [
        {
         "hovertemplate": "Province/State=%{x}<br>Fraud Count=%{marker.color}<extra></extra>",
         "legendgroup": "",
         "marker": {
          "color": [],
          "coloraxis": "coloraxis",
          "pattern": {
           "shape": ""
          }
         },
         "name": "",
         "orientation": "v",
         "showlegend": false,
         "textposition": "auto",
         "type": "bar",
         "x": [],
         "xaxis": "x",
         "y": [],
         "yaxis": "y"
        }
       ],
       "layout": {
        "barmode": "relative",
        "coloraxis": {
         "colorbar": {
          "title": {
           "text": "Fraud Count"
          }
         },
         "colorscale": [
          [
           0,
           "rgb(247,251,255)"
          ],
          [
           0.125,
           "rgb(222,235,247)"
          ],
          [
           0.25,
           "rgb(198,219,239)"
          ],
          [
           0.375,
           "rgb(158,202,225)"
          ],
          [
           0.5,
           "rgb(107,174,214)"
          ],
          [
           0.625,
           "rgb(66,146,198)"
          ],
          [
           0.75,
           "rgb(33,113,181)"
          ],
          [
           0.875,
           "rgb(8,81,156)"
          ],
          [
           1,
           "rgb(8,48,107)"
          ]
         ]
        },
        "legend": {
         "tracegroupgap": 0
        },
        "template": {
         "data": {
          "bar": [
           {
            "error_x": {
             "color": "#2a3f5f"
            },
            "error_y": {
             "color": "#2a3f5f"
            },
            "marker": {
             "line": {
              "color": "#E5ECF6",
              "width": 0.5
             },
             "pattern": {
              "fillmode": "overlay",
              "size": 10,
              "solidity": 0.2
             }
            },
            "type": "bar"
           }
          ],
          "barpolar": [
           {
            "marker": {
             "line": {
              "color": "#E5ECF6",
              "width": 0.5
             },
             "pattern": {
              "fillmode": "overlay",
              "size": 10,
              "solidity": 0.2
             }
            },
            "type": "barpolar"
           }
          ],
          "carpet": [
           {
            "aaxis": {
             "endlinecolor": "#2a3f5f",
             "gridcolor": "white",
             "linecolor": "white",
             "minorgridcolor": "white",
             "startlinecolor": "#2a3f5f"
            },
            "baxis": {
             "endlinecolor": "#2a3f5f",
             "gridcolor": "white",
             "linecolor": "white",
             "minorgridcolor": "white",
             "startlinecolor": "#2a3f5f"
            },
            "type": "carpet"
           }
          ],
          "choropleth": [
           {
            "colorbar": {
             "outlinewidth": 0,
             "ticks": ""
            },
            "type": "choropleth"
           }
          ],
          "contour": [
           {
            "colorbar": {
             "outlinewidth": 0,
             "ticks": ""
            },
            "colorscale": [
             [
              0,
              "#0d0887"
             ],
             [
              0.1111111111111111,
              "#46039f"
             ],
             [
              0.2222222222222222,
              "#7201a8"
             ],
             [
              0.3333333333333333,
              "#9c179e"
             ],
             [
              0.4444444444444444,
              "#bd3786"
             ],
             [
              0.5555555555555556,
              "#d8576b"
             ],
             [
              0.6666666666666666,
              "#ed7953"
             ],
             [
              0.7777777777777778,
              "#fb9f3a"
             ],
             [
              0.8888888888888888,
              "#fdca26"
             ],
             [
              1,
              "#f0f921"
             ]
            ],
            "type": "contour"
           }
          ],
          "contourcarpet": [
           {
            "colorbar": {
             "outlinewidth": 0,
             "ticks": ""
            },
            "type": "contourcarpet"
           }
          ],
          "heatmap": [
           {
            "colorbar": {
             "outlinewidth": 0,
             "ticks": ""
            },
            "colorscale": [
             [
              0,
              "#0d0887"
             ],
             [
              0.1111111111111111,
              "#46039f"
             ],
             [
              0.2222222222222222,
              "#7201a8"
             ],
             [
              0.3333333333333333,
              "#9c179e"
             ],
             [
              0.4444444444444444,
              "#bd3786"
             ],
             [
              0.5555555555555556,
              "#d8576b"
             ],
             [
              0.6666666666666666,
              "#ed7953"
             ],
             [
              0.7777777777777778,
              "#fb9f3a"
             ],
             [
              0.8888888888888888,
              "#fdca26"
             ],
             [
              1,
              "#f0f921"
             ]
            ],
            "type": "heatmap"
           }
          ],
          "histogram": [
           {
            "marker": {
             "pattern": {
              "fillmode": "overlay",
              "size": 10,
              "solidity": 0.2
             }
            },
            "type": "histogram"
           }
          ],
          "histogram2d": [
           {
            "colorbar": {
             "outlinewidth": 0,
             "ticks": ""
            },
            "colorscale": [
             [
              0,
              "#0d0887"
             ],
             [
              0.1111111111111111,
              "#46039f"
             ],
             [
              0.2222222222222222,
              "#7201a8"
             ],
             [
              0.3333333333333333,
              "#9c179e"
             ],
             [
              0.4444444444444444,
              "#bd3786"
             ],
             [
              0.5555555555555556,
              "#d8576b"
             ],
             [
              0.6666666666666666,
              "#ed7953"
             ],
             [
              0.7777777777777778,
              "#fb9f3a"
             ],
             [
              0.8888888888888888,
              "#fdca26"
             ],
             [
              1,
              "#f0f921"
             ]
            ],
            "type": "histogram2d"
           }
          ],
          "histogram2dcontour": [
           {
            "colorbar": {
             "outlinewidth": 0,
             "ticks": ""
            },
            "colorscale": [
             [
              0,
              "#0d0887"
             ],
             [
              0.1111111111111111,
              "#46039f"
             ],
             [
              0.2222222222222222,
              "#7201a8"
             ],
             [
              0.3333333333333333,
              "#9c179e"
             ],
             [
              0.4444444444444444,
              "#bd3786"
             ],
             [
              0.5555555555555556,
              "#d8576b"
             ],
             [
              0.6666666666666666,
              "#ed7953"
             ],
             [
              0.7777777777777778,
              "#fb9f3a"
             ],
             [
              0.8888888888888888,
              "#fdca26"
             ],
             [
              1,
              "#f0f921"
             ]
            ],
            "type": "histogram2dcontour"
           }
          ],
          "mesh3d": [
           {
            "colorbar": {
             "outlinewidth": 0,
             "ticks": ""
            },
            "type": "mesh3d"
           }
          ],
          "parcoords": [
           {
            "line": {
             "colorbar": {
              "outlinewidth": 0,
              "ticks": ""
             }
            },
            "type": "parcoords"
           }
          ],
          "pie": [
           {
            "automargin": true,
            "type": "pie"
           }
          ],
          "scatter": [
           {
            "fillpattern": {
             "fillmode": "overlay",
             "size": 10,
             "solidity": 0.2
            },
            "type": "scatter"
           }
          ],
          "scatter3d": [
           {
            "line": {
             "colorbar": {
              "outlinewidth": 0,
              "ticks": ""
             }
            },
            "marker": {
             "colorbar": {
              "outlinewidth": 0,
              "ticks": ""
             }
            },
            "type": "scatter3d"
           }
          ],
          "scattercarpet": [
           {
            "marker": {
             "colorbar": {
              "outlinewidth": 0,
              "ticks": ""
             }
            },
            "type": "scattercarpet"
           }
          ],
          "scattergeo": [
           {
            "marker": {
             "colorbar": {
              "outlinewidth": 0,
              "ticks": ""
             }
            },
            "type": "scattergeo"
           }
          ],
          "scattergl": [
           {
            "marker": {
             "colorbar": {
              "outlinewidth": 0,
              "ticks": ""
             }
            },
            "type": "scattergl"
           }
          ],
          "scattermap": [
           {
            "marker": {
             "colorbar": {
              "outlinewidth": 0,
              "ticks": ""
             }
            },
            "type": "scattermap"
           }
          ],
          "scattermapbox": [
           {
            "marker": {
             "colorbar": {
              "outlinewidth": 0,
              "ticks": ""
             }
            },
            "type": "scattermapbox"
           }
          ],
          "scatterpolar": [
           {
            "marker": {
             "colorbar": {
              "outlinewidth": 0,
              "ticks": ""
             }
            },
            "type": "scatterpolar"
           }
          ],
          "scatterpolargl": [
           {
            "marker": {
             "colorbar": {
              "outlinewidth": 0,
              "ticks": ""
             }
            },
            "type": "scatterpolargl"
           }
          ],
          "scatterternary": [
           {
            "marker": {
             "colorbar": {
              "outlinewidth": 0,
              "ticks": ""
             }
            },
            "type": "scatterternary"
           }
          ],
          "surface": [
           {
            "colorbar": {
             "outlinewidth": 0,
             "ticks": ""
            },
            "colorscale": [
             [
              0,
              "#0d0887"
             ],
             [
              0.1111111111111111,
              "#46039f"
             ],
             [
              0.2222222222222222,
              "#7201a8"
             ],
             [
              0.3333333333333333,
              "#9c179e"
             ],
             [
              0.4444444444444444,
              "#bd3786"
             ],
             [
              0.5555555555555556,
              "#d8576b"
             ],
             [
              0.6666666666666666,
              "#ed7953"
             ],
             [
              0.7777777777777778,
              "#fb9f3a"
             ],
             [
              0.8888888888888888,
              "#fdca26"
             ],
             [
              1,
              "#f0f921"
             ]
            ],
            "type": "surface"
           }
          ],
          "table": [
           {
            "cells": {
             "fill": {
              "color": "#EBF0F8"
             },
             "line": {
              "color": "white"
             }
            },
            "header": {
             "fill": {
              "color": "#C8D4E3"
             },
             "line": {
              "color": "white"
             }
            },
            "type": "table"
           }
          ]
         },
         "layout": {
          "annotationdefaults": {
           "arrowcolor": "#2a3f5f",
           "arrowhead": 0,
           "arrowwidth": 1
          },
          "autotypenumbers": "strict",
          "coloraxis": {
           "colorbar": {
            "outlinewidth": 0,
            "ticks": ""
           }
          },
          "colorscale": {
           "diverging": [
            [
             0,
             "#8e0152"
            ],
            [
             0.1,
             "#c51b7d"
            ],
            [
             0.2,
             "#de77ae"
            ],
            [
             0.3,
             "#f1b6da"
            ],
            [
             0.4,
             "#fde0ef"
            ],
            [
             0.5,
             "#f7f7f7"
            ],
            [
             0.6,
             "#e6f5d0"
            ],
            [
             0.7,
             "#b8e186"
            ],
            [
             0.8,
             "#7fbc41"
            ],
            [
             0.9,
             "#4d9221"
            ],
            [
             1,
             "#276419"
            ]
           ],
           "sequential": [
            [
             0,
             "#0d0887"
            ],
            [
             0.1111111111111111,
             "#46039f"
            ],
            [
             0.2222222222222222,
             "#7201a8"
            ],
            [
             0.3333333333333333,
             "#9c179e"
            ],
            [
             0.4444444444444444,
             "#bd3786"
            ],
            [
             0.5555555555555556,
             "#d8576b"
            ],
            [
             0.6666666666666666,
             "#ed7953"
            ],
            [
             0.7777777777777778,
             "#fb9f3a"
            ],
            [
             0.8888888888888888,
             "#fdca26"
            ],
            [
             1,
             "#f0f921"
            ]
           ],
           "sequentialminus": [
            [
             0,
             "#0d0887"
            ],
            [
             0.1111111111111111,
             "#46039f"
            ],
            [
             0.2222222222222222,
             "#7201a8"
            ],
            [
             0.3333333333333333,
             "#9c179e"
            ],
            [
             0.4444444444444444,
             "#bd3786"
            ],
            [
             0.5555555555555556,
             "#d8576b"
            ],
            [
             0.6666666666666666,
             "#ed7953"
            ],
            [
             0.7777777777777778,
             "#fb9f3a"
            ],
            [
             0.8888888888888888,
             "#fdca26"
            ],
            [
             1,
             "#f0f921"
            ]
           ]
          },
          "colorway": [
           "#636efa",
           "#EF553B",
           "#00cc96",
           "#ab63fa",
           "#FFA15A",
           "#19d3f3",
           "#FF6692",
           "#B6E880",
           "#FF97FF",
           "#FECB52"
          ],
          "font": {
           "color": "#2a3f5f"
          },
          "geo": {
           "bgcolor": "white",
           "lakecolor": "white",
           "landcolor": "#E5ECF6",
           "showlakes": true,
           "showland": true,
           "subunitcolor": "white"
          },
          "hoverlabel": {
           "align": "left"
          },
          "hovermode": "closest",
          "mapbox": {
           "style": "light"
          },
          "paper_bgcolor": "white",
          "plot_bgcolor": "#E5ECF6",
          "polar": {
           "angularaxis": {
            "gridcolor": "white",
            "linecolor": "white",
            "ticks": ""
           },
           "bgcolor": "#E5ECF6",
           "radialaxis": {
            "gridcolor": "white",
            "linecolor": "white",
            "ticks": ""
           }
          },
          "scene": {
           "xaxis": {
            "backgroundcolor": "#E5ECF6",
            "gridcolor": "white",
            "gridwidth": 2,
            "linecolor": "white",
            "showbackground": true,
            "ticks": "",
            "zerolinecolor": "white"
           },
           "yaxis": {
            "backgroundcolor": "#E5ECF6",
            "gridcolor": "white",
            "gridwidth": 2,
            "linecolor": "white",
            "showbackground": true,
            "ticks": "",
            "zerolinecolor": "white"
           },
           "zaxis": {
            "backgroundcolor": "#E5ECF6",
            "gridcolor": "white",
            "gridwidth": 2,
            "linecolor": "white",
            "showbackground": true,
            "ticks": "",
            "zerolinecolor": "white"
           }
          },
          "shapedefaults": {
           "line": {
            "color": "#2a3f5f"
           }
          },
          "ternary": {
           "aaxis": {
            "gridcolor": "white",
            "linecolor": "white",
            "ticks": ""
           },
           "baxis": {
            "gridcolor": "white",
            "linecolor": "white",
            "ticks": ""
           },
           "bgcolor": "#E5ECF6",
           "caxis": {
            "gridcolor": "white",
            "linecolor": "white",
            "ticks": ""
           }
          },
          "title": {
           "x": 0.05
          },
          "xaxis": {
           "automargin": true,
           "gridcolor": "white",
           "linecolor": "white",
           "ticks": "",
           "title": {
            "standoff": 15
           },
           "zerolinecolor": "white",
           "zerolinewidth": 2
          },
          "yaxis": {
           "automargin": true,
           "gridcolor": "white",
           "linecolor": "white",
           "ticks": "",
           "title": {
            "standoff": 15
           },
           "zerolinecolor": "white",
           "zerolinewidth": 2
          }
         }
        },
        "title": {
         "text": "Top 10 Provinces with the Highest Fraud Count"
        },
        "xaxis": {
         "anchor": "y",
         "domain": [
          0,
          1
         ],
         "title": {
          "text": "Province/State"
         }
        },
        "yaxis": {
         "anchor": "x",
         "domain": [
          0,
          1
         ],
         "title": {
          "text": "Fraud Count"
         }
        }
       }
      }
     },
     "metadata": {},
     "output_type": "display_data"
    }
   ],
   "source": [
    "import pandas as pd\n",
    "import plotly.express as px\n",
    "\n",
    "# Load the dataset\n",
    "df = pd.read_csv(\"Anti_Fraud_Centre_Data.csv\")\n",
    "\n",
    "# Check if the required columns exist\n",
    "if 'Province/State' in df.columns and 'Complaint Type' in df.columns:\n",
    "    # Filter for fraud cases\n",
    "    fraud_by_province = df[df['Complaint Type'] == 'Fraud'].groupby('Province/State').size().sort_values(ascending=False).head(10).reset_index(name='Fraud Count')\n",
    "\n",
    "    # Create the bar chart\n",
    "    fig_bar = px.bar(\n",
    "        fraud_by_province,\n",
    "        x='Province/State',\n",
    "        y='Fraud Count',\n",
    "        title=\"Top 10 Provinces with the Highest Fraud Count\",\n",
    "        labels={'Province/State': 'Province/State', 'Fraud Count': 'Fraud Count'},\n",
    "        color='Fraud Count',\n",
    "        color_continuous_scale='Blues'\n",
    "    )\n",
    "    fig_bar.show()\n",
    "else:\n",
    "    print(\"The dataset does not contain 'Province/State' or 'Case Type' columns.\")"
   ]
  }
 ],
 "metadata": {
  "kernelspec": {
   "display_name": "base",
   "language": "python",
   "name": "python3"
  },
  "language_info": {
   "codemirror_mode": {
    "name": "ipython",
    "version": 3
   },
   "file_extension": ".py",
   "mimetype": "text/x-python",
   "name": "python",
   "nbconvert_exporter": "python",
   "pygments_lexer": "ipython3",
   "version": "3.12.9"
  }
 },
 "nbformat": 4,
 "nbformat_minor": 5
}
